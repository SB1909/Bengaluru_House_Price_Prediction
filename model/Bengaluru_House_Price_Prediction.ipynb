{
 "cells": [
  {
   "cell_type": "markdown",
   "id": "9694bd47",
   "metadata": {
    "id": "9694bd47"
   },
   "source": [
    "# Bengaluru House Price Prediction:\n",
    "**Problem Statement:**\n",
    "We need to predict house price in bengaluru city. For this purpose we have given collected dataset for vairous houses at different locations.\n",
    "\n",
    "Using this dataset we need get some insights from data and develope machine learning model which will give us accurate results. And we also need to deploy that model for public use.\n",
    "\n",
    "> Exploratory Data Analysis on raw data.\n",
    "\n",
    "> Use feature engineering techniques to pre process given data.\n",
    "\n",
    "> Use transformed data to predict the house prices.\n",
    "\n",
    "> Use sutaible Machine Learning model to increase accuracy of prediction.\n",
    "\n",
    "> Deploy the model."
   ]
  },
  {
   "cell_type": "markdown",
   "id": "a4921bf3",
   "metadata": {
    "id": "a4921bf3"
   },
   "source": [
    "## Methods:\n",
    "\n",
    "**Data Cleaning:** \n",
    "2. Handelling Missing values.\n",
    "3. Data Cleaning.\n",
    "2. Check for outliers and their impact and take neccesory action.\n",
    "3. Handle categorical data using encoding.\n",
    "4. Apply scaling if needed.\n",
    "**Machine Learning Model:**\n",
    "5. Predict prices using suitable ML model and calculate accuracy of model.\n",
    "6. Model Hyperparameter Tuning.\n",
    "**Deployment:**\n",
    "6. Deploying Final Model."
   ]
  },
  {
   "cell_type": "code",
   "execution_count": 5,
   "id": "5b680c04",
   "metadata": {
    "executionInfo": {
     "elapsed": 977,
     "status": "ok",
     "timestamp": 1670913053093,
     "user": {
      "displayName": "Shubham Bhalerao",
      "userId": "01565516305767695314"
     },
     "user_tz": -330
    },
    "id": "5b680c04"
   },
   "outputs": [],
   "source": [
    "# importing required libraries\n",
    "\n",
    "import pandas as pd\n",
    "import numpy as np\n",
    "import matplotlib.pyplot as plt\n",
    "import seaborn as sns\n",
    "import numpy as np\n",
    "\n",
    "import warnings\n",
    "warnings.filterwarnings('ignore')\n",
    "\n",
    "from sklearn import set_config\n",
    "set_config(display = \"diagram\")\n",
    "\n",
    "from sklearn.model_selection import train_test_split\n",
    "from sklearn.preprocessing import OrdinalEncoder, OneHotEncoder\n",
    "from sklearn.preprocessing import StandardScaler, MinMaxScaler\n",
    "from sklearn.compose import ColumnTransformer\n",
    "from sklearn.pipeline import Pipeline\n",
    "\n",
    "from sklearn.ensemble import RandomForestRegressor\n",
    "import xgboost as xgb\n",
    "from sklearn.linear_model import LinearRegression\n",
    "from sklearn.linear_model import Ridge\n",
    "\n",
    "from sklearn.metrics import mean_squared_error\n",
    "from sklearn.model_selection import GridSearchCV"
   ]
  },
  {
   "cell_type": "code",
   "execution_count": 6,
   "id": "v41dfJT90i8V",
   "metadata": {
    "colab": {
     "base_uri": "https://localhost:8080/"
    },
    "executionInfo": {
     "elapsed": 5065,
     "status": "ok",
     "timestamp": 1670913058147,
     "user": {
      "displayName": "Shubham Bhalerao",
      "userId": "01565516305767695314"
     },
     "user_tz": -330
    },
    "id": "v41dfJT90i8V",
    "outputId": "8ff821fc-8332-44e0-bf41-dcc7ea0c4247"
   },
   "outputs": [],
   "source": [
    "#from google.colab import drive\n",
    "#drive.mount('/content/drive')"
   ]
  },
  {
   "cell_type": "code",
   "execution_count": 7,
   "id": "a7e45402",
   "metadata": {
    "colab": {
     "base_uri": "https://localhost:8080/",
     "height": 423
    },
    "executionInfo": {
     "elapsed": 444,
     "status": "ok",
     "timestamp": 1670913980332,
     "user": {
      "displayName": "Shubham Bhalerao",
      "userId": "01565516305767695314"
     },
     "user_tz": -330
    },
    "id": "a7e45402",
    "outputId": "812ddc67-9724-457b-add8-fb8dbaf20857"
   },
   "outputs": [
    {
     "data": {
      "text/html": [
       "<div>\n",
       "<style scoped>\n",
       "    .dataframe tbody tr th:only-of-type {\n",
       "        vertical-align: middle;\n",
       "    }\n",
       "\n",
       "    .dataframe tbody tr th {\n",
       "        vertical-align: top;\n",
       "    }\n",
       "\n",
       "    .dataframe thead th {\n",
       "        text-align: right;\n",
       "    }\n",
       "</style>\n",
       "<table border=\"1\" class=\"dataframe\">\n",
       "  <thead>\n",
       "    <tr style=\"text-align: right;\">\n",
       "      <th></th>\n",
       "      <th>area_type</th>\n",
       "      <th>availability</th>\n",
       "      <th>location</th>\n",
       "      <th>size</th>\n",
       "      <th>society</th>\n",
       "      <th>total_sqft</th>\n",
       "      <th>bath</th>\n",
       "      <th>balcony</th>\n",
       "      <th>price</th>\n",
       "    </tr>\n",
       "  </thead>\n",
       "  <tbody>\n",
       "    <tr>\n",
       "      <th>0</th>\n",
       "      <td>Super built-up  Area</td>\n",
       "      <td>19-Dec</td>\n",
       "      <td>Electronic City Phase II</td>\n",
       "      <td>2 BHK</td>\n",
       "      <td>Coomee</td>\n",
       "      <td>1056</td>\n",
       "      <td>2.0</td>\n",
       "      <td>1.0</td>\n",
       "      <td>39.07</td>\n",
       "    </tr>\n",
       "    <tr>\n",
       "      <th>1</th>\n",
       "      <td>Plot  Area</td>\n",
       "      <td>Ready To Move</td>\n",
       "      <td>Chikka Tirupathi</td>\n",
       "      <td>4 Bedroom</td>\n",
       "      <td>Theanmp</td>\n",
       "      <td>2600</td>\n",
       "      <td>5.0</td>\n",
       "      <td>3.0</td>\n",
       "      <td>120.00</td>\n",
       "    </tr>\n",
       "    <tr>\n",
       "      <th>2</th>\n",
       "      <td>Built-up  Area</td>\n",
       "      <td>Ready To Move</td>\n",
       "      <td>Uttarahalli</td>\n",
       "      <td>3 BHK</td>\n",
       "      <td>NaN</td>\n",
       "      <td>1440</td>\n",
       "      <td>2.0</td>\n",
       "      <td>3.0</td>\n",
       "      <td>62.00</td>\n",
       "    </tr>\n",
       "    <tr>\n",
       "      <th>3</th>\n",
       "      <td>Super built-up  Area</td>\n",
       "      <td>Ready To Move</td>\n",
       "      <td>Lingadheeranahalli</td>\n",
       "      <td>3 BHK</td>\n",
       "      <td>Soiewre</td>\n",
       "      <td>1521</td>\n",
       "      <td>3.0</td>\n",
       "      <td>1.0</td>\n",
       "      <td>95.00</td>\n",
       "    </tr>\n",
       "    <tr>\n",
       "      <th>4</th>\n",
       "      <td>Super built-up  Area</td>\n",
       "      <td>Ready To Move</td>\n",
       "      <td>Kothanur</td>\n",
       "      <td>2 BHK</td>\n",
       "      <td>NaN</td>\n",
       "      <td>1200</td>\n",
       "      <td>2.0</td>\n",
       "      <td>1.0</td>\n",
       "      <td>51.00</td>\n",
       "    </tr>\n",
       "    <tr>\n",
       "      <th>...</th>\n",
       "      <td>...</td>\n",
       "      <td>...</td>\n",
       "      <td>...</td>\n",
       "      <td>...</td>\n",
       "      <td>...</td>\n",
       "      <td>...</td>\n",
       "      <td>...</td>\n",
       "      <td>...</td>\n",
       "      <td>...</td>\n",
       "    </tr>\n",
       "    <tr>\n",
       "      <th>13315</th>\n",
       "      <td>Built-up  Area</td>\n",
       "      <td>Ready To Move</td>\n",
       "      <td>Whitefield</td>\n",
       "      <td>5 Bedroom</td>\n",
       "      <td>ArsiaEx</td>\n",
       "      <td>3453</td>\n",
       "      <td>4.0</td>\n",
       "      <td>0.0</td>\n",
       "      <td>231.00</td>\n",
       "    </tr>\n",
       "    <tr>\n",
       "      <th>13316</th>\n",
       "      <td>Super built-up  Area</td>\n",
       "      <td>Ready To Move</td>\n",
       "      <td>Richards Town</td>\n",
       "      <td>4 BHK</td>\n",
       "      <td>NaN</td>\n",
       "      <td>3600</td>\n",
       "      <td>5.0</td>\n",
       "      <td>NaN</td>\n",
       "      <td>400.00</td>\n",
       "    </tr>\n",
       "    <tr>\n",
       "      <th>13317</th>\n",
       "      <td>Built-up  Area</td>\n",
       "      <td>Ready To Move</td>\n",
       "      <td>Raja Rajeshwari Nagar</td>\n",
       "      <td>2 BHK</td>\n",
       "      <td>Mahla T</td>\n",
       "      <td>1141</td>\n",
       "      <td>2.0</td>\n",
       "      <td>1.0</td>\n",
       "      <td>60.00</td>\n",
       "    </tr>\n",
       "    <tr>\n",
       "      <th>13318</th>\n",
       "      <td>Super built-up  Area</td>\n",
       "      <td>18-Jun</td>\n",
       "      <td>Padmanabhanagar</td>\n",
       "      <td>4 BHK</td>\n",
       "      <td>SollyCl</td>\n",
       "      <td>4689</td>\n",
       "      <td>4.0</td>\n",
       "      <td>1.0</td>\n",
       "      <td>488.00</td>\n",
       "    </tr>\n",
       "    <tr>\n",
       "      <th>13319</th>\n",
       "      <td>Super built-up  Area</td>\n",
       "      <td>Ready To Move</td>\n",
       "      <td>Doddathoguru</td>\n",
       "      <td>1 BHK</td>\n",
       "      <td>NaN</td>\n",
       "      <td>550</td>\n",
       "      <td>1.0</td>\n",
       "      <td>1.0</td>\n",
       "      <td>17.00</td>\n",
       "    </tr>\n",
       "  </tbody>\n",
       "</table>\n",
       "<p>13320 rows × 9 columns</p>\n",
       "</div>"
      ],
      "text/plain": [
       "                  area_type   availability                  location  \\\n",
       "0      Super built-up  Area         19-Dec  Electronic City Phase II   \n",
       "1                Plot  Area  Ready To Move          Chikka Tirupathi   \n",
       "2            Built-up  Area  Ready To Move               Uttarahalli   \n",
       "3      Super built-up  Area  Ready To Move        Lingadheeranahalli   \n",
       "4      Super built-up  Area  Ready To Move                  Kothanur   \n",
       "...                     ...            ...                       ...   \n",
       "13315        Built-up  Area  Ready To Move                Whitefield   \n",
       "13316  Super built-up  Area  Ready To Move             Richards Town   \n",
       "13317        Built-up  Area  Ready To Move     Raja Rajeshwari Nagar   \n",
       "13318  Super built-up  Area         18-Jun           Padmanabhanagar   \n",
       "13319  Super built-up  Area  Ready To Move              Doddathoguru   \n",
       "\n",
       "            size  society total_sqft  bath  balcony   price  \n",
       "0          2 BHK  Coomee        1056   2.0      1.0   39.07  \n",
       "1      4 Bedroom  Theanmp       2600   5.0      3.0  120.00  \n",
       "2          3 BHK      NaN       1440   2.0      3.0   62.00  \n",
       "3          3 BHK  Soiewre       1521   3.0      1.0   95.00  \n",
       "4          2 BHK      NaN       1200   2.0      1.0   51.00  \n",
       "...          ...      ...        ...   ...      ...     ...  \n",
       "13315  5 Bedroom  ArsiaEx       3453   4.0      0.0  231.00  \n",
       "13316      4 BHK      NaN       3600   5.0      NaN  400.00  \n",
       "13317      2 BHK  Mahla T       1141   2.0      1.0   60.00  \n",
       "13318      4 BHK  SollyCl       4689   4.0      1.0  488.00  \n",
       "13319      1 BHK      NaN        550   1.0      1.0   17.00  \n",
       "\n",
       "[13320 rows x 9 columns]"
      ]
     },
     "execution_count": 7,
     "metadata": {},
     "output_type": "execute_result"
    }
   ],
   "source": [
    "# importing data\n",
    "\n",
    "df = pd.read_csv(\"Bengaluru_House_Data.csv\")\n",
    "df"
   ]
  },
  {
   "cell_type": "markdown",
   "id": "dbe61b41",
   "metadata": {
    "id": "dbe61b41"
   },
   "source": [
    "### Data Cleaning:"
   ]
  },
  {
   "cell_type": "code",
   "execution_count": 8,
   "id": "b01612a8",
   "metadata": {
    "colab": {
     "base_uri": "https://localhost:8080/"
    },
    "executionInfo": {
     "elapsed": 454,
     "status": "ok",
     "timestamp": 1670913987377,
     "user": {
      "displayName": "Shubham Bhalerao",
      "userId": "01565516305767695314"
     },
     "user_tz": -330
    },
    "id": "b01612a8",
    "outputId": "0ccde92b-4fea-4b2b-cb89-44f34bc73eaf"
   },
   "outputs": [
    {
     "data": {
      "text/plain": [
       "Index(['area_type', 'availability', 'location', 'size', 'society',\n",
       "       'total_sqft', 'bath', 'balcony', 'price'],\n",
       "      dtype='object')"
      ]
     },
     "execution_count": 8,
     "metadata": {},
     "output_type": "execute_result"
    }
   ],
   "source": [
    "df.columns"
   ]
  },
  {
   "cell_type": "code",
   "execution_count": 9,
   "id": "744debf8",
   "metadata": {
    "colab": {
     "base_uri": "https://localhost:8080/"
    },
    "executionInfo": {
     "elapsed": 9,
     "status": "ok",
     "timestamp": 1670913988346,
     "user": {
      "displayName": "Shubham Bhalerao",
      "userId": "01565516305767695314"
     },
     "user_tz": -330
    },
    "id": "744debf8",
    "outputId": "4e088b95-ad4e-4c6c-8084-f85049956927"
   },
   "outputs": [
    {
     "data": {
      "text/plain": [
       "area_type          0\n",
       "availability       0\n",
       "location           1\n",
       "size              16\n",
       "society         5502\n",
       "total_sqft         0\n",
       "bath              73\n",
       "balcony          609\n",
       "price              0\n",
       "dtype: int64"
      ]
     },
     "execution_count": 9,
     "metadata": {},
     "output_type": "execute_result"
    }
   ],
   "source": [
    "df.isnull().sum()"
   ]
  },
  {
   "cell_type": "code",
   "execution_count": 10,
   "id": "79c4914f",
   "metadata": {
    "colab": {
     "base_uri": "https://localhost:8080/"
    },
    "executionInfo": {
     "elapsed": 12,
     "status": "ok",
     "timestamp": 1670913989093,
     "user": {
      "displayName": "Shubham Bhalerao",
      "userId": "01565516305767695314"
     },
     "user_tz": -330
    },
    "id": "79c4914f",
    "outputId": "1e6bde02-0511-4f9c-db58-23d93ddf4ef6"
   },
   "outputs": [
    {
     "name": "stdout",
     "output_type": "stream",
     "text": [
      "<class 'pandas.core.frame.DataFrame'>\n",
      "RangeIndex: 13320 entries, 0 to 13319\n",
      "Data columns (total 9 columns):\n",
      " #   Column        Non-Null Count  Dtype  \n",
      "---  ------        --------------  -----  \n",
      " 0   area_type     13320 non-null  object \n",
      " 1   availability  13320 non-null  object \n",
      " 2   location      13319 non-null  object \n",
      " 3   size          13304 non-null  object \n",
      " 4   society       7818 non-null   object \n",
      " 5   total_sqft    13320 non-null  object \n",
      " 6   bath          13247 non-null  float64\n",
      " 7   balcony       12711 non-null  float64\n",
      " 8   price         13320 non-null  float64\n",
      "dtypes: float64(3), object(6)\n",
      "memory usage: 936.7+ KB\n"
     ]
    }
   ],
   "source": [
    "df.info()"
   ]
  },
  {
   "cell_type": "code",
   "execution_count": 11,
   "id": "27c9949f",
   "metadata": {
    "colab": {
     "base_uri": "https://localhost:8080/",
     "height": 206
    },
    "executionInfo": {
     "elapsed": 19,
     "status": "ok",
     "timestamp": 1670913990774,
     "user": {
      "displayName": "Shubham Bhalerao",
      "userId": "01565516305767695314"
     },
     "user_tz": -330
    },
    "id": "27c9949f",
    "outputId": "faaabc55-7a78-4beb-d956-8ba2e11714f8"
   },
   "outputs": [
    {
     "data": {
      "text/html": [
       "<div>\n",
       "<style scoped>\n",
       "    .dataframe tbody tr th:only-of-type {\n",
       "        vertical-align: middle;\n",
       "    }\n",
       "\n",
       "    .dataframe tbody tr th {\n",
       "        vertical-align: top;\n",
       "    }\n",
       "\n",
       "    .dataframe thead th {\n",
       "        text-align: right;\n",
       "    }\n",
       "</style>\n",
       "<table border=\"1\" class=\"dataframe\">\n",
       "  <thead>\n",
       "    <tr style=\"text-align: right;\">\n",
       "      <th></th>\n",
       "      <th>area_type</th>\n",
       "      <th>location</th>\n",
       "      <th>size</th>\n",
       "      <th>total_sqft</th>\n",
       "      <th>bath</th>\n",
       "      <th>balcony</th>\n",
       "      <th>price</th>\n",
       "    </tr>\n",
       "  </thead>\n",
       "  <tbody>\n",
       "    <tr>\n",
       "      <th>0</th>\n",
       "      <td>Super built-up  Area</td>\n",
       "      <td>Electronic City Phase II</td>\n",
       "      <td>2 BHK</td>\n",
       "      <td>1056</td>\n",
       "      <td>2.0</td>\n",
       "      <td>1.0</td>\n",
       "      <td>39.07</td>\n",
       "    </tr>\n",
       "    <tr>\n",
       "      <th>1</th>\n",
       "      <td>Plot  Area</td>\n",
       "      <td>Chikka Tirupathi</td>\n",
       "      <td>4 Bedroom</td>\n",
       "      <td>2600</td>\n",
       "      <td>5.0</td>\n",
       "      <td>3.0</td>\n",
       "      <td>120.00</td>\n",
       "    </tr>\n",
       "    <tr>\n",
       "      <th>2</th>\n",
       "      <td>Built-up  Area</td>\n",
       "      <td>Uttarahalli</td>\n",
       "      <td>3 BHK</td>\n",
       "      <td>1440</td>\n",
       "      <td>2.0</td>\n",
       "      <td>3.0</td>\n",
       "      <td>62.00</td>\n",
       "    </tr>\n",
       "    <tr>\n",
       "      <th>3</th>\n",
       "      <td>Super built-up  Area</td>\n",
       "      <td>Lingadheeranahalli</td>\n",
       "      <td>3 BHK</td>\n",
       "      <td>1521</td>\n",
       "      <td>3.0</td>\n",
       "      <td>1.0</td>\n",
       "      <td>95.00</td>\n",
       "    </tr>\n",
       "    <tr>\n",
       "      <th>4</th>\n",
       "      <td>Super built-up  Area</td>\n",
       "      <td>Kothanur</td>\n",
       "      <td>2 BHK</td>\n",
       "      <td>1200</td>\n",
       "      <td>2.0</td>\n",
       "      <td>1.0</td>\n",
       "      <td>51.00</td>\n",
       "    </tr>\n",
       "  </tbody>\n",
       "</table>\n",
       "</div>"
      ],
      "text/plain": [
       "              area_type                  location       size total_sqft  bath  \\\n",
       "0  Super built-up  Area  Electronic City Phase II      2 BHK       1056   2.0   \n",
       "1            Plot  Area          Chikka Tirupathi  4 Bedroom       2600   5.0   \n",
       "2        Built-up  Area               Uttarahalli      3 BHK       1440   2.0   \n",
       "3  Super built-up  Area        Lingadheeranahalli      3 BHK       1521   3.0   \n",
       "4  Super built-up  Area                  Kothanur      2 BHK       1200   2.0   \n",
       "\n",
       "   balcony   price  \n",
       "0      1.0   39.07  \n",
       "1      3.0  120.00  \n",
       "2      3.0   62.00  \n",
       "3      1.0   95.00  \n",
       "4      1.0   51.00  "
      ]
     },
     "execution_count": 11,
     "metadata": {},
     "output_type": "execute_result"
    }
   ],
   "source": [
    "# dropping  unnecessary columns\n",
    "df.drop([\"availability\", \"society\"], axis = 1, inplace = True)\n",
    "df.head()"
   ]
  },
  {
   "cell_type": "markdown",
   "id": "w4vJgInqwK-i",
   "metadata": {
    "id": "w4vJgInqwK-i"
   },
   "source": [
    "Cheking for missing data."
   ]
  },
  {
   "cell_type": "code",
   "execution_count": 12,
   "id": "e15e62e1",
   "metadata": {
    "colab": {
     "base_uri": "https://localhost:8080/"
    },
    "executionInfo": {
     "elapsed": 28,
     "status": "ok",
     "timestamp": 1670913993391,
     "user": {
      "displayName": "Shubham Bhalerao",
      "userId": "01565516305767695314"
     },
     "user_tz": -330
    },
    "id": "e15e62e1",
    "outputId": "6fd0b036-ea5e-469f-9af7-7967ce0983f5"
   },
   "outputs": [
    {
     "data": {
      "text/plain": [
       "balcony     4.572072\n",
       "bath        0.548048\n",
       "size        0.120120\n",
       "location    0.007508\n",
       "dtype: float64"
      ]
     },
     "execution_count": 12,
     "metadata": {},
     "output_type": "execute_result"
    }
   ],
   "source": [
    "(df.isnull().sum()[df.isnull().sum() != 0].sort_values(ascending = False) /len(df)*100)"
   ]
  },
  {
   "cell_type": "code",
   "execution_count": 13,
   "id": "a4d611b0",
   "metadata": {
    "colab": {
     "base_uri": "https://localhost:8080/"
    },
    "executionInfo": {
     "elapsed": 40,
     "status": "ok",
     "timestamp": 1670913997387,
     "user": {
      "displayName": "Shubham Bhalerao",
      "userId": "01565516305767695314"
     },
     "user_tz": -330
    },
    "id": "a4d611b0",
    "outputId": "c3ff17f7-7822-4ec5-b4bd-ed3e8042f9fa"
   },
   "outputs": [
    {
     "data": {
      "text/plain": [
       "(area_type     0\n",
       " location      0\n",
       " size          0\n",
       " total_sqft    0\n",
       " bath          0\n",
       " balcony       0\n",
       " price         0\n",
       " dtype: int64,\n",
       " (12710, 7))"
      ]
     },
     "execution_count": 13,
     "metadata": {},
     "output_type": "execute_result"
    }
   ],
   "source": [
    "# missing values are not much bigger compare to whole data set. So dropping null value rows\n",
    "\n",
    "df = df.dropna()\n",
    "\n",
    "df.isnull().sum(), df.shape"
   ]
  },
  {
   "cell_type": "markdown",
   "id": "d69334f0",
   "metadata": {
    "id": "d69334f0"
   },
   "source": [
    "**size**"
   ]
  },
  {
   "cell_type": "code",
   "execution_count": 14,
   "id": "3674b815",
   "metadata": {
    "colab": {
     "base_uri": "https://localhost:8080/"
    },
    "executionInfo": {
     "elapsed": 37,
     "status": "ok",
     "timestamp": 1670913997389,
     "user": {
      "displayName": "Shubham Bhalerao",
      "userId": "01565516305767695314"
     },
     "user_tz": -330
    },
    "id": "3674b815",
    "outputId": "276a715c-6c97-4ede-a729-016d60f7b0a5",
    "scrolled": true
   },
   "outputs": [
    {
     "data": {
      "text/plain": [
       "array(['2 BHK', '4 Bedroom', '3 BHK', '3 Bedroom', '1 BHK', '1 RK',\n",
       "       '4 BHK', '1 Bedroom', '2 Bedroom', '6 Bedroom', '8 Bedroom',\n",
       "       '7 Bedroom', '5 BHK', '7 BHK', '6 BHK', '5 Bedroom', '11 BHK',\n",
       "       '9 BHK', '9 Bedroom', '27 BHK', '11 Bedroom', '43 Bedroom',\n",
       "       '14 BHK', '8 BHK', '12 Bedroom', '10 Bedroom', '13 BHK'],\n",
       "      dtype=object)"
      ]
     },
     "execution_count": 14,
     "metadata": {},
     "output_type": "execute_result"
    }
   ],
   "source": [
    "df[\"size\"].unique()"
   ]
  },
  {
   "cell_type": "code",
   "execution_count": 15,
   "id": "cd8b267a",
   "metadata": {
    "executionInfo": {
     "elapsed": 28,
     "status": "ok",
     "timestamp": 1670913997390,
     "user": {
      "displayName": "Shubham Bhalerao",
      "userId": "01565516305767695314"
     },
     "user_tz": -330
    },
    "id": "cd8b267a"
   },
   "outputs": [],
   "source": [
    "# we will remove BHK or Bedroom words from column and will keep numbers only\n",
    "\n",
    "df[\"bhk\"] = df[\"size\"].apply( lambda x : int(x.split(\" \")[0]))\n",
    "df.drop(['size'], axis = 1, inplace=True)"
   ]
  },
  {
   "cell_type": "code",
   "execution_count": 16,
   "id": "b4373e01",
   "metadata": {
    "colab": {
     "base_uri": "https://localhost:8080/"
    },
    "executionInfo": {
     "elapsed": 27,
     "status": "ok",
     "timestamp": 1670913997391,
     "user": {
      "displayName": "Shubham Bhalerao",
      "userId": "01565516305767695314"
     },
     "user_tz": -330
    },
    "id": "b4373e01",
    "outputId": "5bde2e0d-cba3-4302-d321-dd797af2f091"
   },
   "outputs": [
    {
     "data": {
      "text/plain": [
       "0        2\n",
       "1        4\n",
       "2        3\n",
       "3        3\n",
       "4        2\n",
       "        ..\n",
       "13314    3\n",
       "13315    5\n",
       "13317    2\n",
       "13318    4\n",
       "13319    1\n",
       "Name: bhk, Length: 12710, dtype: int64"
      ]
     },
     "execution_count": 16,
     "metadata": {},
     "output_type": "execute_result"
    }
   ],
   "source": [
    "df[\"bhk\"]"
   ]
  },
  {
   "cell_type": "markdown",
   "id": "9b9d4063",
   "metadata": {
    "id": "9b9d4063"
   },
   "source": [
    "**total_sqft**"
   ]
  },
  {
   "cell_type": "code",
   "execution_count": 17,
   "id": "48c419ee",
   "metadata": {
    "colab": {
     "base_uri": "https://localhost:8080/"
    },
    "executionInfo": {
     "elapsed": 13,
     "status": "ok",
     "timestamp": 1670913997994,
     "user": {
      "displayName": "Shubham Bhalerao",
      "userId": "01565516305767695314"
     },
     "user_tz": -330
    },
    "id": "48c419ee",
    "outputId": "4d842549-2407-45cd-a828-45c5e6059016"
   },
   "outputs": [
    {
     "data": {
      "text/plain": [
       "array(['1056', '2600', '1440', ..., '1133 - 1384', '774', '4689'],\n",
       "      dtype=object)"
      ]
     },
     "execution_count": 17,
     "metadata": {},
     "output_type": "execute_result"
    }
   ],
   "source": [
    "df[\"total_sqft\"].unique()"
   ]
  },
  {
   "cell_type": "markdown",
   "id": "ec4dff7a",
   "metadata": {
    "id": "ec4dff7a"
   },
   "source": [
    "We can see that some values in total-sqft column are in range and some values are in different unit also. We need solve that first.\n",
    "\n",
    "We will take avgerage where values are in range, and we will drop values which have different unit ( meter or any other that Sq Ft)"
   ]
  },
  {
   "cell_type": "code",
   "execution_count": 18,
   "id": "be8fc535",
   "metadata": {
    "executionInfo": {
     "elapsed": 5,
     "status": "ok",
     "timestamp": 1670913999776,
     "user": {
      "displayName": "Shubham Bhalerao",
      "userId": "01565516305767695314"
     },
     "user_tz": -330
    },
    "id": "be8fc535"
   },
   "outputs": [],
   "source": [
    "def convert_data(x):\n",
    "    x_new = x.split('-')\n",
    "    if len(x_new) == 2:\n",
    "        return (float(x_new[0]) + float(x_new[1]))/2\n",
    "    try:\n",
    "        return float(x)\n",
    "    except:\n",
    "        return None"
   ]
  },
  {
   "cell_type": "code",
   "execution_count": 19,
   "id": "a3d87a76",
   "metadata": {
    "colab": {
     "base_uri": "https://localhost:8080/"
    },
    "executionInfo": {
     "elapsed": 21,
     "status": "ok",
     "timestamp": 1670914000799,
     "user": {
      "displayName": "Shubham Bhalerao",
      "userId": "01565516305767695314"
     },
     "user_tz": -330
    },
    "id": "a3d87a76",
    "outputId": "748d8451-452a-438f-ae5a-db3942cf285d"
   },
   "outputs": [
    {
     "data": {
      "text/plain": [
       "13.5"
      ]
     },
     "execution_count": 19,
     "metadata": {},
     "output_type": "execute_result"
    }
   ],
   "source": [
    "convert_data(\"12 - 15\")"
   ]
  },
  {
   "cell_type": "code",
   "execution_count": 20,
   "id": "c52fb083",
   "metadata": {
    "colab": {
     "base_uri": "https://localhost:8080/"
    },
    "executionInfo": {
     "elapsed": 736,
     "status": "ok",
     "timestamp": 1670914001522,
     "user": {
      "displayName": "Shubham Bhalerao",
      "userId": "01565516305767695314"
     },
     "user_tz": -330
    },
    "id": "c52fb083",
    "outputId": "97a7fb9e-cf62-4fb5-b205-6d3606b2430f"
   },
   "outputs": [
    {
     "data": {
      "text/plain": [
       "0        1056.0\n",
       "1        2600.0\n",
       "2        1440.0\n",
       "3        1521.0\n",
       "4        1200.0\n",
       "          ...  \n",
       "13314    1715.0\n",
       "13315    3453.0\n",
       "13317    1141.0\n",
       "13318    4689.0\n",
       "13319     550.0\n",
       "Name: total_sqft, Length: 12710, dtype: float64"
      ]
     },
     "execution_count": 20,
     "metadata": {},
     "output_type": "execute_result"
    }
   ],
   "source": [
    "#Converting all values of Sq ft column into float\n",
    "\n",
    "df[\"total_sqft\"] = df[\"total_sqft\"].apply(convert_data)\n",
    "df[\"total_sqft\"]"
   ]
  },
  {
   "cell_type": "markdown",
   "id": "NApG_u3gKowo",
   "metadata": {
    "id": "NApG_u3gKowo"
   },
   "source": [
    "**area_type**"
   ]
  },
  {
   "cell_type": "code",
   "execution_count": 21,
   "id": "7fe713e6",
   "metadata": {
    "colab": {
     "base_uri": "https://localhost:8080/"
    },
    "executionInfo": {
     "elapsed": 970,
     "status": "ok",
     "timestamp": 1670914004831,
     "user": {
      "displayName": "Shubham Bhalerao",
      "userId": "01565516305767695314"
     },
     "user_tz": -330
    },
    "id": "7fe713e6",
    "outputId": "b8646596-9869-42d2-92d1-2422c9559b7e"
   },
   "outputs": [
    {
     "data": {
      "text/plain": [
       "Super built-up  Area    8481\n",
       "Built-up  Area          2310\n",
       "Plot  Area              1837\n",
       "Carpet  Area              82\n",
       "Name: area_type, dtype: int64"
      ]
     },
     "execution_count": 21,
     "metadata": {},
     "output_type": "execute_result"
    }
   ],
   "source": [
    "df[\"area_type\"].value_counts()"
   ]
  },
  {
   "cell_type": "markdown",
   "id": "2ebabab2",
   "metadata": {
    "id": "2ebabab2"
   },
   "source": [
    "We can see lot of extra spaces between words in this column. So we are removing it."
   ]
  },
  {
   "cell_type": "code",
   "execution_count": 22,
   "id": "222fa718",
   "metadata": {
    "executionInfo": {
     "elapsed": 6,
     "status": "ok",
     "timestamp": 1670914007426,
     "user": {
      "displayName": "Shubham Bhalerao",
      "userId": "01565516305767695314"
     },
     "user_tz": -330
    },
    "id": "222fa718"
   },
   "outputs": [],
   "source": [
    "df[\"area_type\"] = df[\"area_type\"].apply( lambda x : x.strip())"
   ]
  },
  {
   "cell_type": "code",
   "execution_count": 23,
   "id": "dd5adb8e",
   "metadata": {
    "executionInfo": {
     "elapsed": 6,
     "status": "ok",
     "timestamp": 1670914008153,
     "user": {
      "displayName": "Shubham Bhalerao",
      "userId": "01565516305767695314"
     },
     "user_tz": -330
    },
    "id": "dd5adb8e"
   },
   "outputs": [],
   "source": [
    "df[\"area_type\"] = df[\"area_type\"].str.replace('  +', ' ')"
   ]
  },
  {
   "cell_type": "code",
   "execution_count": 24,
   "id": "61a596e1",
   "metadata": {
    "colab": {
     "base_uri": "https://localhost:8080/"
    },
    "executionInfo": {
     "elapsed": 9,
     "status": "ok",
     "timestamp": 1670914011093,
     "user": {
      "displayName": "Shubham Bhalerao",
      "userId": "01565516305767695314"
     },
     "user_tz": -330
    },
    "id": "61a596e1",
    "outputId": "0be121f3-d891-4fe2-ec4d-4125de859a78"
   },
   "outputs": [
    {
     "data": {
      "text/plain": [
       "Super built-up Area    8481\n",
       "Built-up Area          2310\n",
       "Plot Area              1837\n",
       "Carpet Area              82\n",
       "Name: area_type, dtype: int64"
      ]
     },
     "execution_count": 24,
     "metadata": {},
     "output_type": "execute_result"
    }
   ],
   "source": [
    "df[\"area_type\"].value_counts()"
   ]
  },
  {
   "cell_type": "markdown",
   "id": "cfd8dfb6",
   "metadata": {
    "id": "cfd8dfb6"
   },
   "source": [
    "**location**"
   ]
  },
  {
   "cell_type": "code",
   "execution_count": 25,
   "id": "345da637",
   "metadata": {
    "executionInfo": {
     "elapsed": 11,
     "status": "ok",
     "timestamp": 1670914013525,
     "user": {
      "displayName": "Shubham Bhalerao",
      "userId": "01565516305767695314"
     },
     "user_tz": -330
    },
    "id": "345da637"
   },
   "outputs": [],
   "source": [
    "# To remove extra spaces between, before and after words in column.\n",
    "df[\"location\"] = df[\"location\"].apply( lambda x : x.strip())"
   ]
  },
  {
   "cell_type": "code",
   "execution_count": 26,
   "id": "358df3c6",
   "metadata": {
    "executionInfo": {
     "elapsed": 24,
     "status": "ok",
     "timestamp": 1670914014307,
     "user": {
      "displayName": "Shubham Bhalerao",
      "userId": "01565516305767695314"
     },
     "user_tz": -330
    },
    "id": "358df3c6"
   },
   "outputs": [],
   "source": [
    "df[\"location\"] = df[\"location\"].str.replace('  +', ' ')"
   ]
  },
  {
   "cell_type": "code",
   "execution_count": 27,
   "id": "2b429248",
   "metadata": {
    "colab": {
     "base_uri": "https://localhost:8080/"
    },
    "executionInfo": {
     "elapsed": 23,
     "status": "ok",
     "timestamp": 1670914014308,
     "user": {
      "displayName": "Shubham Bhalerao",
      "userId": "01565516305767695314"
     },
     "user_tz": -330
    },
    "id": "2b429248",
    "outputId": "43b5da5e-40f7-4a50-87fb-aa3c58914bed"
   },
   "outputs": [
    {
     "data": {
      "text/plain": [
       "Whitefield                         515\n",
       "Sarjapur Road                      372\n",
       "Electronic City                    302\n",
       "Kanakpura Road                     261\n",
       "Thanisandra                        234\n",
       "                                  ... \n",
       "Hanuman Nagar                        1\n",
       "Hsr layout sector3                   1\n",
       "Off Bannergatta road                 1\n",
       "AECS LAYOUT A-BLOCK Singasandra      1\n",
       "Abshot Layout                        1\n",
       "Name: location, Length: 1254, dtype: int64"
      ]
     },
     "execution_count": 27,
     "metadata": {},
     "output_type": "execute_result"
    }
   ],
   "source": [
    "location_count = (df[\"location\"].value_counts()).sort_values(ascending = False)\n",
    "location_count"
   ]
  },
  {
   "cell_type": "code",
   "execution_count": 28,
   "id": "18621ca1",
   "metadata": {
    "colab": {
     "base_uri": "https://localhost:8080/"
    },
    "executionInfo": {
     "elapsed": 22,
     "status": "ok",
     "timestamp": 1670914014310,
     "user": {
      "displayName": "Shubham Bhalerao",
      "userId": "01565516305767695314"
     },
     "user_tz": -330
    },
    "id": "18621ca1",
    "outputId": "bf184b99-04e9-4852-9c33-3cd56b5c7340"
   },
   "outputs": [
    {
     "data": {
      "text/plain": [
       "Ejipura                            9\n",
       "Chennammana Kere                   9\n",
       "Lingarajapuram                     9\n",
       "Vignana Nagar                      9\n",
       "Sector 1 HSR Layout                9\n",
       "                                  ..\n",
       "Hanuman Nagar                      1\n",
       "Hsr layout sector3                 1\n",
       "Off Bannergatta road               1\n",
       "AECS LAYOUT A-BLOCK Singasandra    1\n",
       "Abshot Layout                      1\n",
       "Name: location, Length: 1007, dtype: int64"
      ]
     },
     "execution_count": 28,
     "metadata": {},
     "output_type": "execute_result"
    }
   ],
   "source": [
    "location_count_less_10 = location_count[location_count < 10]\n",
    "location_count_less_10"
   ]
  },
  {
   "cell_type": "markdown",
   "id": "29ff3db2",
   "metadata": {
    "id": "29ff3db2"
   },
   "source": [
    "We can see that 1254 different categories present in this column but 1007 categories has very less count.\n",
    "\n",
    "So we will mark those 1007 categories (with less than 5 count) as other..."
   ]
  },
  {
   "cell_type": "code",
   "execution_count": 29,
   "id": "c74c9d7d",
   "metadata": {
    "executionInfo": {
     "elapsed": 21,
     "status": "ok",
     "timestamp": 1670914017057,
     "user": {
      "displayName": "Shubham Bhalerao",
      "userId": "01565516305767695314"
     },
     "user_tz": -330
    },
    "id": "c74c9d7d"
   },
   "outputs": [],
   "source": [
    "df[\"location\"] = df[\"location\"].apply( lambda x : 'other' if x in location_count_less_10 else x)"
   ]
  },
  {
   "cell_type": "code",
   "execution_count": 30,
   "id": "70bc9bab",
   "metadata": {
    "colab": {
     "base_uri": "https://localhost:8080/"
    },
    "executionInfo": {
     "elapsed": 21,
     "status": "ok",
     "timestamp": 1670914017060,
     "user": {
      "displayName": "Shubham Bhalerao",
      "userId": "01565516305767695314"
     },
     "user_tz": -330
    },
    "id": "70bc9bab",
    "outputId": "cc6a5755-d50a-48aa-c1b9-fa6d4989ba6b"
   },
   "outputs": [
    {
     "data": {
      "text/plain": [
       "other              2639\n",
       "Whitefield          515\n",
       "Sarjapur Road       372\n",
       "Electronic City     302\n",
       "Kanakpura Road      261\n",
       "                   ... \n",
       "Gunjur Palya         10\n",
       "Naganathapura        10\n",
       "HAL 2nd Stage        10\n",
       "Ganga Nagar          10\n",
       "Kalkere              10\n",
       "Name: location, Length: 248, dtype: int64"
      ]
     },
     "execution_count": 30,
     "metadata": {},
     "output_type": "execute_result"
    }
   ],
   "source": [
    "# checking count\n",
    "\n",
    "(df[\"location\"].value_counts()).sort_values(ascending = False)"
   ]
  },
  {
   "cell_type": "markdown",
   "id": "4hXwKhr77mXV",
   "metadata": {
    "id": "4hXwKhr77mXV"
   },
   "source": [
    "Add new feature called **price per square feet**."
   ]
  },
  {
   "cell_type": "code",
   "execution_count": 31,
   "id": "YWhG1Wts7rgB",
   "metadata": {
    "executionInfo": {
     "elapsed": 9,
     "status": "ok",
     "timestamp": 1670914020066,
     "user": {
      "displayName": "Shubham Bhalerao",
      "userId": "01565516305767695314"
     },
     "user_tz": -330
    },
    "id": "YWhG1Wts7rgB"
   },
   "outputs": [],
   "source": [
    "df['price_per_sqft'] = df['price']*100000/df['total_sqft']"
   ]
  },
  {
   "cell_type": "markdown",
   "id": "f464dfd7",
   "metadata": {
    "id": "f464dfd7"
   },
   "source": [
    "**Checking for Outlier:** "
   ]
  },
  {
   "cell_type": "code",
   "execution_count": 32,
   "id": "b4034ff1",
   "metadata": {
    "executionInfo": {
     "elapsed": 7,
     "status": "ok",
     "timestamp": 1670914020886,
     "user": {
      "displayName": "Shubham Bhalerao",
      "userId": "01565516305767695314"
     },
     "user_tz": -330
    },
    "id": "b4034ff1"
   },
   "outputs": [],
   "source": [
    "# defining function to plot graph\n",
    "\n",
    "def out_plot(column, df):\n",
    "    plt.figure(figsize = (15,5))\n",
    "    plt.subplot(1,2,1)\n",
    "    sns.distplot(df[column])\n",
    "    plt.subplot(1,2,2)\n",
    "    sns.boxplot(df[column])\n",
    "    plt.tight_layout()\n",
    "    plt.show()\n",
    "    return"
   ]
  },
  {
   "cell_type": "code",
   "execution_count": 33,
   "id": "b081a077",
   "metadata": {
    "executionInfo": {
     "elapsed": 12,
     "status": "ok",
     "timestamp": 1670914022190,
     "user": {
      "displayName": "Shubham Bhalerao",
      "userId": "01565516305767695314"
     },
     "user_tz": -330
    },
    "id": "b081a077"
   },
   "outputs": [],
   "source": [
    "# defining function for outlier removal using IQR and Z-score method\n",
    "\n",
    "def IQR(column_name, df):\n",
    "  q1 = df[column_name].quantile(0.25)\n",
    "  q3 = df[column_name].quantile(0.75)\n",
    "  iqr = q3 - q1\n",
    "  upper_bound = q3 + (1.5*iqr)\n",
    "  lower_bound = q1 - (1.5*iqr)\n",
    "\n",
    "  # using trimming method\n",
    "\n",
    "  df = df[(df[column_name] <= upper_bound) & (df[column_name] >= lower_bound)]\n",
    "  return df\n",
    "\n",
    "def z_score(column_name, df):\n",
    "  mean = df[column_name].mean()\n",
    "  std = df[column_name].std()\n",
    "\n",
    "  upper_limit = mean + (3*std)\n",
    "  lower_limit = mean - (3*std)\n",
    "  df = df[(df[column_name] <= upper_limit) & (df[column_name] >= lower_limit)]\n",
    "  return df\n",
    "\n",
    "  "
   ]
  },
  {
   "cell_type": "markdown",
   "id": "gqbBVd9F6Zkv",
   "metadata": {
    "id": "gqbBVd9F6Zkv"
   },
   "source": [
    "**bhk**\n",
    "\n",
    "I) Unusual relation in values of column size and column total_sqft."
   ]
  },
  {
   "cell_type": "code",
   "execution_count": 34,
   "id": "aaiHVVpZ6iEi",
   "metadata": {
    "colab": {
     "base_uri": "https://localhost:8080/",
     "height": 387
    },
    "executionInfo": {
     "elapsed": 966,
     "status": "ok",
     "timestamp": 1670914024797,
     "user": {
      "displayName": "Shubham Bhalerao",
      "userId": "01565516305767695314"
     },
     "user_tz": -330
    },
    "id": "aaiHVVpZ6iEi",
    "outputId": "d699e3b1-528b-445c-d65a-2eb5f743de84"
   },
   "outputs": [
    {
     "data": {
      "image/png": "[encoded data removed]",
      "text/plain": [
       "<Figure size 1500x500 with 2 Axes>"
      ]
     },
     "metadata": {},
     "output_type": "display_data"
    },
    {
     "data": {
      "text/plain": [
       "(12710, 8)"
      ]
     },
     "execution_count": 34,
     "metadata": {},
     "output_type": "execute_result"
    }
   ],
   "source": [
    "out_plot(\"bhk\", df)\n",
    "df.shape"
   ]
  },
  {
   "cell_type": "code",
   "execution_count": 35,
   "id": "ebefe92d",
   "metadata": {
    "colab": {
     "base_uri": "https://localhost:8080/",
     "height": 394
    },
    "executionInfo": {
     "elapsed": 23,
     "status": "ok",
     "timestamp": 1670914027161,
     "user": {
      "displayName": "Shubham Bhalerao",
      "userId": "01565516305767695314"
     },
     "user_tz": -330
    },
    "id": "ebefe92d",
    "outputId": "aee25023-e6e6-49c2-9abd-ff0e0984cb28"
   },
   "outputs": [
    {
     "data": {
      "text/html": [
       "<div>\n",
       "<style scoped>\n",
       "    .dataframe tbody tr th:only-of-type {\n",
       "        vertical-align: middle;\n",
       "    }\n",
       "\n",
       "    .dataframe tbody tr th {\n",
       "        vertical-align: top;\n",
       "    }\n",
       "\n",
       "    .dataframe thead th {\n",
       "        text-align: right;\n",
       "    }\n",
       "</style>\n",
       "<table border=\"1\" class=\"dataframe\">\n",
       "  <thead>\n",
       "    <tr style=\"text-align: right;\">\n",
       "      <th></th>\n",
       "      <th>area_type</th>\n",
       "      <th>location</th>\n",
       "      <th>total_sqft</th>\n",
       "      <th>bath</th>\n",
       "      <th>balcony</th>\n",
       "      <th>price</th>\n",
       "      <th>bhk</th>\n",
       "      <th>price_per_sqft</th>\n",
       "    </tr>\n",
       "  </thead>\n",
       "  <tbody>\n",
       "    <tr>\n",
       "      <th>459</th>\n",
       "      <td>Super built-up Area</td>\n",
       "      <td>other</td>\n",
       "      <td>5000.0</td>\n",
       "      <td>9.0</td>\n",
       "      <td>3.0</td>\n",
       "      <td>360.0</td>\n",
       "      <td>11</td>\n",
       "      <td>7200.000000</td>\n",
       "    </tr>\n",
       "    <tr>\n",
       "      <th>1718</th>\n",
       "      <td>Super built-up Area</td>\n",
       "      <td>other</td>\n",
       "      <td>8000.0</td>\n",
       "      <td>27.0</td>\n",
       "      <td>0.0</td>\n",
       "      <td>230.0</td>\n",
       "      <td>27</td>\n",
       "      <td>2875.000000</td>\n",
       "    </tr>\n",
       "    <tr>\n",
       "      <th>1768</th>\n",
       "      <td>Plot Area</td>\n",
       "      <td>other</td>\n",
       "      <td>1200.0</td>\n",
       "      <td>11.0</td>\n",
       "      <td>0.0</td>\n",
       "      <td>170.0</td>\n",
       "      <td>11</td>\n",
       "      <td>14166.666667</td>\n",
       "    </tr>\n",
       "    <tr>\n",
       "      <th>3853</th>\n",
       "      <td>Plot Area</td>\n",
       "      <td>other</td>\n",
       "      <td>1200.0</td>\n",
       "      <td>6.0</td>\n",
       "      <td>3.0</td>\n",
       "      <td>150.0</td>\n",
       "      <td>11</td>\n",
       "      <td>12500.000000</td>\n",
       "    </tr>\n",
       "    <tr>\n",
       "      <th>4684</th>\n",
       "      <td>Plot Area</td>\n",
       "      <td>Munnekollal</td>\n",
       "      <td>2400.0</td>\n",
       "      <td>40.0</td>\n",
       "      <td>0.0</td>\n",
       "      <td>660.0</td>\n",
       "      <td>43</td>\n",
       "      <td>27500.000000</td>\n",
       "    </tr>\n",
       "    <tr>\n",
       "      <th>4916</th>\n",
       "      <td>Super built-up Area</td>\n",
       "      <td>other</td>\n",
       "      <td>1250.0</td>\n",
       "      <td>15.0</td>\n",
       "      <td>0.0</td>\n",
       "      <td>125.0</td>\n",
       "      <td>14</td>\n",
       "      <td>10000.000000</td>\n",
       "    </tr>\n",
       "    <tr>\n",
       "      <th>6533</th>\n",
       "      <td>Plot Area</td>\n",
       "      <td>Mysore Road</td>\n",
       "      <td>2232.0</td>\n",
       "      <td>6.0</td>\n",
       "      <td>2.0</td>\n",
       "      <td>300.0</td>\n",
       "      <td>12</td>\n",
       "      <td>13440.860215</td>\n",
       "    </tr>\n",
       "    <tr>\n",
       "      <th>9511</th>\n",
       "      <td>Plot Area</td>\n",
       "      <td>Munnekollal</td>\n",
       "      <td>1200.0</td>\n",
       "      <td>8.0</td>\n",
       "      <td>3.0</td>\n",
       "      <td>230.0</td>\n",
       "      <td>10</td>\n",
       "      <td>19166.666667</td>\n",
       "    </tr>\n",
       "    <tr>\n",
       "      <th>9935</th>\n",
       "      <td>Super built-up Area</td>\n",
       "      <td>other</td>\n",
       "      <td>5425.0</td>\n",
       "      <td>13.0</td>\n",
       "      <td>0.0</td>\n",
       "      <td>275.0</td>\n",
       "      <td>13</td>\n",
       "      <td>5069.124424</td>\n",
       "    </tr>\n",
       "    <tr>\n",
       "      <th>11142</th>\n",
       "      <td>Built-up Area</td>\n",
       "      <td>Munnekollal</td>\n",
       "      <td>7200.0</td>\n",
       "      <td>10.0</td>\n",
       "      <td>3.0</td>\n",
       "      <td>200.0</td>\n",
       "      <td>10</td>\n",
       "      <td>2777.777778</td>\n",
       "    </tr>\n",
       "    <tr>\n",
       "      <th>11327</th>\n",
       "      <td>Plot Area</td>\n",
       "      <td>Kogilu</td>\n",
       "      <td>3280.0</td>\n",
       "      <td>9.0</td>\n",
       "      <td>3.0</td>\n",
       "      <td>450.0</td>\n",
       "      <td>10</td>\n",
       "      <td>13719.512195</td>\n",
       "    </tr>\n",
       "  </tbody>\n",
       "</table>\n",
       "</div>"
      ],
      "text/plain": [
       "                 area_type     location  total_sqft  bath  balcony  price  \\\n",
       "459    Super built-up Area        other      5000.0   9.0      3.0  360.0   \n",
       "1718   Super built-up Area        other      8000.0  27.0      0.0  230.0   \n",
       "1768             Plot Area        other      1200.0  11.0      0.0  170.0   \n",
       "3853             Plot Area        other      1200.0   6.0      3.0  150.0   \n",
       "4684             Plot Area  Munnekollal      2400.0  40.0      0.0  660.0   \n",
       "4916   Super built-up Area        other      1250.0  15.0      0.0  125.0   \n",
       "6533             Plot Area  Mysore Road      2232.0   6.0      2.0  300.0   \n",
       "9511             Plot Area  Munnekollal      1200.0   8.0      3.0  230.0   \n",
       "9935   Super built-up Area        other      5425.0  13.0      0.0  275.0   \n",
       "11142        Built-up Area  Munnekollal      7200.0  10.0      3.0  200.0   \n",
       "11327            Plot Area       Kogilu      3280.0   9.0      3.0  450.0   \n",
       "\n",
       "       bhk  price_per_sqft  \n",
       "459     11     7200.000000  \n",
       "1718    27     2875.000000  \n",
       "1768    11    14166.666667  \n",
       "3853    11    12500.000000  \n",
       "4684    43    27500.000000  \n",
       "4916    14    10000.000000  \n",
       "6533    12    13440.860215  \n",
       "9511    10    19166.666667  \n",
       "9935    13     5069.124424  \n",
       "11142   10     2777.777778  \n",
       "11327   10    13719.512195  "
      ]
     },
     "execution_count": 35,
     "metadata": {},
     "output_type": "execute_result"
    }
   ],
   "source": [
    "df[df[\"bhk\"] >= 10]"
   ]
  },
  {
   "cell_type": "markdown",
   "id": "19c261b3",
   "metadata": {
    "id": "19c261b3"
   },
   "source": [
    "From above table we can see that 2400 SqFt house has 43 bedrooms which is not feasible.\n",
    "\n",
    "Normally square ft per bedroom is 300 (i.e. 2 bhk apartment is minimum 600 sqft. If you have for example 400 sqft apartment with 2 bhk than that seems suspicious and can be removed as an outlier. We will remove such outliers by keeping our minimum thresold per bhk to be 300 sqft\n",
    "\n",
    "So we will assume that avg value of 1bhk should be greater than 300 SqFt"
   ]
  },
  {
   "cell_type": "code",
   "execution_count": 36,
   "id": "1d2f3fba",
   "metadata": {
    "colab": {
     "base_uri": "https://localhost:8080/"
    },
    "executionInfo": {
     "elapsed": 21,
     "status": "ok",
     "timestamp": 1670914029530,
     "user": {
      "displayName": "Shubham Bhalerao",
      "userId": "01565516305767695314"
     },
     "user_tz": -330
    },
    "id": "1d2f3fba",
    "outputId": "4ef81267-4ef3-4e10-e49b-8a342834ddad"
   },
   "outputs": [
    {
     "data": {
      "text/plain": [
       "(12055, 8)"
      ]
     },
     "execution_count": 36,
     "metadata": {},
     "output_type": "execute_result"
    }
   ],
   "source": [
    "# removing unusual data\n",
    "\n",
    "df = df[~(df[\"total_sqft\"] / df[\"bhk\"] < 300)]\n",
    "\n",
    "df.shape"
   ]
  },
  {
   "cell_type": "code",
   "execution_count": 37,
   "id": "c5883e8e",
   "metadata": {
    "colab": {
     "base_uri": "https://localhost:8080/",
     "height": 175
    },
    "executionInfo": {
     "elapsed": 1002,
     "status": "ok",
     "timestamp": 1670914034530,
     "user": {
      "displayName": "Shubham Bhalerao",
      "userId": "01565516305767695314"
     },
     "user_tz": -330
    },
    "id": "c5883e8e",
    "outputId": "deb9b614-3dbb-43d8-e7ab-bc637b7ec6dc"
   },
   "outputs": [
    {
     "data": {
      "text/html": [
       "<div>\n",
       "<style scoped>\n",
       "    .dataframe tbody tr th:only-of-type {\n",
       "        vertical-align: middle;\n",
       "    }\n",
       "\n",
       "    .dataframe tbody tr th {\n",
       "        vertical-align: top;\n",
       "    }\n",
       "\n",
       "    .dataframe thead th {\n",
       "        text-align: right;\n",
       "    }\n",
       "</style>\n",
       "<table border=\"1\" class=\"dataframe\">\n",
       "  <thead>\n",
       "    <tr style=\"text-align: right;\">\n",
       "      <th></th>\n",
       "      <th>area_type</th>\n",
       "      <th>location</th>\n",
       "      <th>total_sqft</th>\n",
       "      <th>bath</th>\n",
       "      <th>balcony</th>\n",
       "      <th>price</th>\n",
       "      <th>bhk</th>\n",
       "      <th>price_per_sqft</th>\n",
       "    </tr>\n",
       "  </thead>\n",
       "  <tbody>\n",
       "    <tr>\n",
       "      <th>459</th>\n",
       "      <td>Super built-up Area</td>\n",
       "      <td>other</td>\n",
       "      <td>5000.0</td>\n",
       "      <td>9.0</td>\n",
       "      <td>3.0</td>\n",
       "      <td>360.0</td>\n",
       "      <td>11</td>\n",
       "      <td>7200.000000</td>\n",
       "    </tr>\n",
       "    <tr>\n",
       "      <th>9935</th>\n",
       "      <td>Super built-up Area</td>\n",
       "      <td>other</td>\n",
       "      <td>5425.0</td>\n",
       "      <td>13.0</td>\n",
       "      <td>0.0</td>\n",
       "      <td>275.0</td>\n",
       "      <td>13</td>\n",
       "      <td>5069.124424</td>\n",
       "    </tr>\n",
       "    <tr>\n",
       "      <th>11142</th>\n",
       "      <td>Built-up Area</td>\n",
       "      <td>Munnekollal</td>\n",
       "      <td>7200.0</td>\n",
       "      <td>10.0</td>\n",
       "      <td>3.0</td>\n",
       "      <td>200.0</td>\n",
       "      <td>10</td>\n",
       "      <td>2777.777778</td>\n",
       "    </tr>\n",
       "    <tr>\n",
       "      <th>11327</th>\n",
       "      <td>Plot Area</td>\n",
       "      <td>Kogilu</td>\n",
       "      <td>3280.0</td>\n",
       "      <td>9.0</td>\n",
       "      <td>3.0</td>\n",
       "      <td>450.0</td>\n",
       "      <td>10</td>\n",
       "      <td>13719.512195</td>\n",
       "    </tr>\n",
       "  </tbody>\n",
       "</table>\n",
       "</div>"
      ],
      "text/plain": [
       "                 area_type     location  total_sqft  bath  balcony  price  \\\n",
       "459    Super built-up Area        other      5000.0   9.0      3.0  360.0   \n",
       "9935   Super built-up Area        other      5425.0  13.0      0.0  275.0   \n",
       "11142        Built-up Area  Munnekollal      7200.0  10.0      3.0  200.0   \n",
       "11327            Plot Area       Kogilu      3280.0   9.0      3.0  450.0   \n",
       "\n",
       "       bhk  price_per_sqft  \n",
       "459     11     7200.000000  \n",
       "9935    13     5069.124424  \n",
       "11142   10     2777.777778  \n",
       "11327   10    13719.512195  "
      ]
     },
     "execution_count": 37,
     "metadata": {},
     "output_type": "execute_result"
    }
   ],
   "source": [
    "# unusual values are deleted from data\n",
    "df[df[\"bhk\"] >= 10]"
   ]
  },
  {
   "cell_type": "markdown",
   "id": "Z2-uW2FPHj5L",
   "metadata": {
    "id": "Z2-uW2FPHj5L"
   },
   "source": [
    "\n",
    "Let's check if for a given location how does the 2 BHK and 3 BHK property prices look like"
   ]
  },
  {
   "cell_type": "code",
   "execution_count": 38,
   "id": "oEra6jURHoa-",
   "metadata": {
    "colab": {
     "base_uri": "https://localhost:8080/",
     "height": 621
    },
    "executionInfo": {
     "elapsed": 607,
     "status": "ok",
     "timestamp": 1670914174685,
     "user": {
      "displayName": "Shubham Bhalerao",
      "userId": "01565516305767695314"
     },
     "user_tz": -330
    },
    "id": "oEra6jURHoa-",
    "outputId": "42c1d0f9-dd12-40df-d7e0-fd9fcea61d72"
   },
   "outputs": [
    {
     "data": {
      "image/png": "[encoded data removed]",
      "text/plain": [
       "<Figure size 1500x1000 with 1 Axes>"
      ]
     },
     "metadata": {},
     "output_type": "display_data"
    }
   ],
   "source": [
    "%matplotlib inline\n",
    "import matplotlib\n",
    "\n",
    "def plot_scatter_chart(df,location):\n",
    "    bhk2 = df[(df.location==location) & (df.bhk==2)]\n",
    "    bhk3 = df[(df.location==location) & (df.bhk==3)]\n",
    "    matplotlib.rcParams['figure.figsize'] = (15,10)\n",
    "    plt.scatter(bhk2.total_sqft,bhk2.price,color='blue',label='2 BHK', s=50)\n",
    "    plt.scatter(bhk3.total_sqft,bhk3.price,marker='*', color='green',label='3 BHK', s=50)\n",
    "    plt.xlabel(\"Total Square Feet Area\")\n",
    "    plt.ylabel(\"Price (Lakh Rs)\")\n",
    "    plt.title(location)\n",
    "    plt.legend()\n",
    "    \n",
    "plot_scatter_chart(df,\"Rajaji Nagar\")"
   ]
  },
  {
   "cell_type": "code",
   "execution_count": 39,
   "id": "Xo543WH5Pvv6",
   "metadata": {
    "colab": {
     "base_uri": "https://localhost:8080/",
     "height": 621
    },
    "executionInfo": {
     "elapsed": 801,
     "status": "ok",
     "timestamp": 1670914182525,
     "user": {
      "displayName": "Shubham Bhalerao",
      "userId": "01565516305767695314"
     },
     "user_tz": -330
    },
    "id": "Xo543WH5Pvv6",
    "outputId": "dfdad25a-4364-43d7-b5a8-ae9d8cd7005a"
   },
   "outputs": [
    {
     "data": {
      "image/png": "[encoded data removed]",
      "text/plain": [
       "<Figure size 1500x1000 with 1 Axes>"
      ]
     },
     "metadata": {},
     "output_type": "display_data"
    }
   ],
   "source": [
    "plot_scatter_chart(df,\"Hebbal\")"
   ]
  },
  {
   "cell_type": "markdown",
   "id": "T26UuncJIpkQ",
   "metadata": {
    "id": "T26UuncJIpkQ"
   },
   "source": [
    "We should also remove properties where for same location, the price of 3 bedroom apartment is less than 2 bedroom apartment (with same square ft area). What we will do is for a given location."
   ]
  },
  {
   "cell_type": "code",
   "execution_count": 40,
   "id": "fXWOayfMUc3e",
   "metadata": {
    "executionInfo": {
     "elapsed": 1565,
     "status": "ok",
     "timestamp": 1670914196341,
     "user": {
      "displayName": "Shubham Bhalerao",
      "userId": "01565516305767695314"
     },
     "user_tz": -330
    },
    "id": "fXWOayfMUc3e"
   },
   "outputs": [],
   "source": [
    "def remove_bhk_outliers(df):\n",
    "    exclude_indices = np.array([])\n",
    "    for location, location_df in df.groupby('location'):\n",
    "        bhk_stats = {}\n",
    "        for bhk, bhk_df in location_df.groupby('bhk'):\n",
    "            bhk_stats[bhk] = {\n",
    "                'mean': np.mean(bhk_df.price_per_sqft),\n",
    "                'std': np.std(bhk_df.price_per_sqft),\n",
    "                'count': bhk_df.shape[0]\n",
    "            }\n",
    "        for bhk, bhk_df in location_df.groupby('bhk'):\n",
    "            stats = bhk_stats.get(bhk-1)\n",
    "            if stats and stats['count']>5:\n",
    "                exclude_indices = np.append(exclude_indices, bhk_df[bhk_df.price_per_sqft<(stats['mean'])].index.values)\n",
    "    return df.drop(exclude_indices,axis='index')\n",
    "\n",
    "df = remove_bhk_outliers(df)"
   ]
  },
  {
   "cell_type": "code",
   "execution_count": 41,
   "id": "vp1Afw7lA9_9",
   "metadata": {
    "colab": {
     "base_uri": "https://localhost:8080/",
     "height": 387
    },
    "executionInfo": {
     "elapsed": 944,
     "status": "ok",
     "timestamp": 1670914202324,
     "user": {
      "displayName": "Shubham Bhalerao",
      "userId": "01565516305767695314"
     },
     "user_tz": -330
    },
    "id": "vp1Afw7lA9_9",
    "outputId": "386aa36e-b0b3-4a69-a36d-460bc518c1f1"
   },
   "outputs": [
    {
     "data": {
      "image/png": "[encoded data removed]",
      "text/plain": [
       "<Figure size 1500x500 with 2 Axes>"
      ]
     },
     "metadata": {},
     "output_type": "display_data"
    },
    {
     "data": {
      "text/plain": [
       "(8417, 8)"
      ]
     },
     "execution_count": 41,
     "metadata": {},
     "output_type": "execute_result"
    }
   ],
   "source": [
    "out_plot(\"bhk\", df)\n",
    "df.shape"
   ]
  },
  {
   "cell_type": "markdown",
   "id": "0093e00f",
   "metadata": {
    "id": "0093e00f"
   },
   "source": [
    "**bath**\n",
    "\n",
    "II) We can see unusual relation in data between bath and size columns."
   ]
  },
  {
   "cell_type": "code",
   "execution_count": 42,
   "id": "61RqvBO4--mP",
   "metadata": {
    "colab": {
     "base_uri": "https://localhost:8080/",
     "height": 369
    },
    "executionInfo": {
     "elapsed": 1697,
     "status": "ok",
     "timestamp": 1670914207903,
     "user": {
      "displayName": "Shubham Bhalerao",
      "userId": "01565516305767695314"
     },
     "user_tz": -330
    },
    "id": "61RqvBO4--mP",
    "outputId": "a4ad543e-8229-4503-9ac6-a260fc9bb9be"
   },
   "outputs": [
    {
     "data": {
      "image/png": "[encoded data removed]",
      "text/plain": [
       "<Figure size 1500x500 with 2 Axes>"
      ]
     },
     "metadata": {},
     "output_type": "display_data"
    }
   ],
   "source": [
    "out_plot(\"bath\", df)"
   ]
  },
  {
   "cell_type": "code",
   "execution_count": 43,
   "id": "42c4f2b4",
   "metadata": {
    "colab": {
     "base_uri": "https://localhost:8080/",
     "height": 175
    },
    "executionInfo": {
     "elapsed": 41,
     "status": "ok",
     "timestamp": 1670914209042,
     "user": {
      "displayName": "Shubham Bhalerao",
      "userId": "01565516305767695314"
     },
     "user_tz": -330
    },
    "id": "42c4f2b4",
    "outputId": "91354093-8a94-47da-dfa6-030d8948eb68"
   },
   "outputs": [
    {
     "data": {
      "text/html": [
       "<div>\n",
       "<style scoped>\n",
       "    .dataframe tbody tr th:only-of-type {\n",
       "        vertical-align: middle;\n",
       "    }\n",
       "\n",
       "    .dataframe tbody tr th {\n",
       "        vertical-align: top;\n",
       "    }\n",
       "\n",
       "    .dataframe thead th {\n",
       "        text-align: right;\n",
       "    }\n",
       "</style>\n",
       "<table border=\"1\" class=\"dataframe\">\n",
       "  <thead>\n",
       "    <tr style=\"text-align: right;\">\n",
       "      <th></th>\n",
       "      <th>area_type</th>\n",
       "      <th>location</th>\n",
       "      <th>total_sqft</th>\n",
       "      <th>bath</th>\n",
       "      <th>balcony</th>\n",
       "      <th>price</th>\n",
       "      <th>bhk</th>\n",
       "      <th>price_per_sqft</th>\n",
       "    </tr>\n",
       "  </thead>\n",
       "  <tbody>\n",
       "    <tr>\n",
       "      <th>6838</th>\n",
       "      <td>Super built-up Area</td>\n",
       "      <td>Rajaji Nagar</td>\n",
       "      <td>7500.0</td>\n",
       "      <td>8.0</td>\n",
       "      <td>3.0</td>\n",
       "      <td>1700.0</td>\n",
       "      <td>5</td>\n",
       "      <td>22666.666667</td>\n",
       "    </tr>\n",
       "    <tr>\n",
       "      <th>7709</th>\n",
       "      <td>Built-up Area</td>\n",
       "      <td>Chikkabanavar</td>\n",
       "      <td>2460.0</td>\n",
       "      <td>7.0</td>\n",
       "      <td>2.0</td>\n",
       "      <td>80.0</td>\n",
       "      <td>4</td>\n",
       "      <td>3252.032520</td>\n",
       "    </tr>\n",
       "    <tr>\n",
       "      <th>9974</th>\n",
       "      <td>Plot Area</td>\n",
       "      <td>other</td>\n",
       "      <td>2400.0</td>\n",
       "      <td>6.0</td>\n",
       "      <td>2.0</td>\n",
       "      <td>775.0</td>\n",
       "      <td>3</td>\n",
       "      <td>32291.666667</td>\n",
       "    </tr>\n",
       "    <tr>\n",
       "      <th>12103</th>\n",
       "      <td>Super built-up Area</td>\n",
       "      <td>Thanisandra</td>\n",
       "      <td>1806.0</td>\n",
       "      <td>6.0</td>\n",
       "      <td>2.0</td>\n",
       "      <td>116.0</td>\n",
       "      <td>3</td>\n",
       "      <td>6423.034330</td>\n",
       "    </tr>\n",
       "  </tbody>\n",
       "</table>\n",
       "</div>"
      ],
      "text/plain": [
       "                 area_type       location  total_sqft  bath  balcony   price  \\\n",
       "6838   Super built-up Area   Rajaji Nagar      7500.0   8.0      3.0  1700.0   \n",
       "7709         Built-up Area  Chikkabanavar      2460.0   7.0      2.0    80.0   \n",
       "9974             Plot Area          other      2400.0   6.0      2.0   775.0   \n",
       "12103  Super built-up Area    Thanisandra      1806.0   6.0      2.0   116.0   \n",
       "\n",
       "       bhk  price_per_sqft  \n",
       "6838     5    22666.666667  \n",
       "7709     4     3252.032520  \n",
       "9974     3    32291.666667  \n",
       "12103    3     6423.034330  "
      ]
     },
     "execution_count": 43,
     "metadata": {},
     "output_type": "execute_result"
    }
   ],
   "source": [
    "df[df[\"bath\"] > df[\"bhk\"]+2]"
   ]
  },
  {
   "cell_type": "markdown",
   "id": "72fa584f",
   "metadata": {
    "id": "72fa584f"
   },
   "source": [
    "Let's suppose that we have a 2bhk house with 5 bathrooms, or we can see that we have 3bhk house with 6 bathrooms.\n",
    "\n",
    "Its very unusual.\n",
    "\n",
    "total bath = total bed + 1 max. Anything above that is an outlier or a data error and can be removed."
   ]
  },
  {
   "cell_type": "code",
   "execution_count": 44,
   "id": "07d26603",
   "metadata": {
    "colab": {
     "base_uri": "https://localhost:8080/"
    },
    "executionInfo": {
     "elapsed": 40,
     "status": "ok",
     "timestamp": 1670914209045,
     "user": {
      "displayName": "Shubham Bhalerao",
      "userId": "01565516305767695314"
     },
     "user_tz": -330
    },
    "id": "07d26603",
    "outputId": "a38a84db-44dc-4089-f0c1-ad1c5b94b8dc"
   },
   "outputs": [
    {
     "data": {
      "text/plain": [
       "(8306, 8)"
      ]
     },
     "execution_count": 44,
     "metadata": {},
     "output_type": "execute_result"
    }
   ],
   "source": [
    "# deleting these outliers\n",
    "\n",
    "df = df[~ (df[\"bath\"] > df[\"bhk\"]+1)]\n",
    "df.shape"
   ]
  },
  {
   "cell_type": "markdown",
   "id": "7f07a1a1",
   "metadata": {
    "id": "7f07a1a1"
   },
   "source": [
    "**total_sqft**"
   ]
  },
  {
   "cell_type": "code",
   "execution_count": 45,
   "id": "75fcea96",
   "metadata": {
    "colab": {
     "base_uri": "https://localhost:8080/",
     "height": 369
    },
    "executionInfo": {
     "elapsed": 732,
     "status": "ok",
     "timestamp": 1670914209751,
     "user": {
      "displayName": "Shubham Bhalerao",
      "userId": "01565516305767695314"
     },
     "user_tz": -330
    },
    "id": "75fcea96",
    "outputId": "0a3207c5-b6b7-473f-87db-d3ea291f7ff8"
   },
   "outputs": [
    {
     "data": {
      "image/png": "[encoded data removed]",
      "text/plain": [
       "<Figure size 1500x500 with 2 Axes>"
      ]
     },
     "metadata": {},
     "output_type": "display_data"
    }
   ],
   "source": [
    "out_plot(\"total_sqft\", df)"
   ]
  },
  {
   "cell_type": "code",
   "execution_count": 46,
   "id": "yhRC1eM60RSG",
   "metadata": {
    "colab": {
     "base_uri": "https://localhost:8080/",
     "height": 387
    },
    "executionInfo": {
     "elapsed": 1392,
     "status": "ok",
     "timestamp": 1670914211132,
     "user": {
      "displayName": "Shubham Bhalerao",
      "userId": "01565516305767695314"
     },
     "user_tz": -330
    },
    "id": "yhRC1eM60RSG",
    "outputId": "59c9a198-f50b-41d0-fa37-dfa4abdf7e75"
   },
   "outputs": [
    {
     "data": {
      "image/png": "[encoded data removed]",
      "text/plain": [
       "<Figure size 1500x500 with 2 Axes>"
      ]
     },
     "metadata": {},
     "output_type": "display_data"
    },
    {
     "data": {
      "text/plain": [
       "(7653, 8)"
      ]
     },
     "execution_count": 46,
     "metadata": {},
     "output_type": "execute_result"
    }
   ],
   "source": [
    "# As it is skewed data we will use IQR method to remove outliers\n",
    "\n",
    "df = IQR(\"total_sqft\", df)\n",
    "out_plot(\"total_sqft\", df)\n",
    "df.shape"
   ]
  },
  {
   "cell_type": "markdown",
   "id": "a6e9db45",
   "metadata": {
    "id": "a6e9db45"
   },
   "source": [
    "**price**"
   ]
  },
  {
   "cell_type": "code",
   "execution_count": 47,
   "id": "7f38500f",
   "metadata": {
    "colab": {
     "base_uri": "https://localhost:8080/",
     "height": 369
    },
    "executionInfo": {
     "elapsed": 1270,
     "status": "ok",
     "timestamp": 1670914215427,
     "user": {
      "displayName": "Shubham Bhalerao",
      "userId": "01565516305767695314"
     },
     "user_tz": -330
    },
    "id": "7f38500f",
    "outputId": "2c62aad5-d209-4cf0-bd3c-556ce1067ce9"
   },
   "outputs": [
    {
     "data": {
      "image/png": "[encoded data removed]",
      "text/plain": [
       "<Figure size 1500x500 with 2 Axes>"
      ]
     },
     "metadata": {},
     "output_type": "display_data"
    }
   ],
   "source": [
    "out_plot(\"price\", df)"
   ]
  },
  {
   "cell_type": "code",
   "execution_count": 48,
   "id": "4bdf2699",
   "metadata": {
    "colab": {
     "base_uri": "https://localhost:8080/",
     "height": 387
    },
    "executionInfo": {
     "elapsed": 922,
     "status": "ok",
     "timestamp": 1670914218703,
     "user": {
      "displayName": "Shubham Bhalerao",
      "userId": "01565516305767695314"
     },
     "user_tz": -330
    },
    "id": "4bdf2699",
    "outputId": "82fa725e-5597-4df3-9511-fda4469bd2c7"
   },
   "outputs": [
    {
     "data": {
      "image/png": "[encoded data removed]",
      "text/plain": [
       "<Figure size 1500x500 with 2 Axes>"
      ]
     },
     "metadata": {},
     "output_type": "display_data"
    },
    {
     "data": {
      "text/plain": [
       "(7212, 8)"
      ]
     },
     "execution_count": 48,
     "metadata": {},
     "output_type": "execute_result"
    }
   ],
   "source": [
    "# As it is skewed data we will use IQR method to remove outliers\n",
    "\n",
    "df = IQR(\"price\", df)\n",
    "out_plot(\"price\", df)\n",
    "df.shape"
   ]
  },
  {
   "cell_type": "markdown",
   "id": "ZBYVTku2FZvo",
   "metadata": {
    "id": "ZBYVTku2FZvo"
   },
   "source": [
    "**Price per sqft**"
   ]
  },
  {
   "cell_type": "code",
   "execution_count": 49,
   "id": "R2xW1Hj-95hM",
   "metadata": {
    "colab": {
     "base_uri": "https://localhost:8080/"
    },
    "executionInfo": {
     "elapsed": 720,
     "status": "ok",
     "timestamp": 1670914222276,
     "user": {
      "displayName": "Shubham Bhalerao",
      "userId": "01565516305767695314"
     },
     "user_tz": -330
    },
    "id": "R2xW1Hj-95hM",
    "outputId": "a491f0d6-d56f-44f8-ff67-93ad23037775"
   },
   "outputs": [
    {
     "data": {
      "text/plain": [
       "count     7212.000000\n",
       "mean      5926.092539\n",
       "std       2264.462040\n",
       "min        500.000000\n",
       "25%       4400.000000\n",
       "50%       5581.395349\n",
       "75%       6842.222955\n",
       "max      24166.666667\n",
       "Name: price_per_sqft, dtype: float64"
      ]
     },
     "execution_count": 49,
     "metadata": {},
     "output_type": "execute_result"
    }
   ],
   "source": [
    "df.price_per_sqft.describe()"
   ]
  },
  {
   "cell_type": "code",
   "execution_count": 50,
   "id": "GNphoYj5ABag",
   "metadata": {
    "colab": {
     "base_uri": "https://localhost:8080/",
     "height": 369
    },
    "executionInfo": {
     "elapsed": 1022,
     "status": "ok",
     "timestamp": 1670914227010,
     "user": {
      "displayName": "Shubham Bhalerao",
      "userId": "01565516305767695314"
     },
     "user_tz": -330
    },
    "id": "GNphoYj5ABag",
    "outputId": "307f60bf-7c01-4524-cbf8-30959625067e"
   },
   "outputs": [
    {
     "data": {
      "image/png": "[encoded data removed]",
      "text/plain": [
       "<Figure size 1500x500 with 2 Axes>"
      ]
     },
     "metadata": {},
     "output_type": "display_data"
    }
   ],
   "source": [
    "out_plot(\"price_per_sqft\", df)"
   ]
  },
  {
   "cell_type": "markdown",
   "id": "hOlXjDoM9_Q6",
   "metadata": {
    "id": "hOlXjDoM9_Q6"
   },
   "source": [
    "Here we find that min price per sqft is 500 rs/sqft whereas max is 24166, this shows a wide variation in property prices. We should remove outliers per location using mean and one standard deviation"
   ]
  },
  {
   "cell_type": "code",
   "execution_count": 51,
   "id": "xRRe8WtS-aGh",
   "metadata": {
    "colab": {
     "base_uri": "https://localhost:8080/"
    },
    "executionInfo": {
     "elapsed": 1389,
     "status": "ok",
     "timestamp": 1670914254786,
     "user": {
      "displayName": "Shubham Bhalerao",
      "userId": "01565516305767695314"
     },
     "user_tz": -330
    },
    "id": "xRRe8WtS-aGh",
    "outputId": "55af8ee6-5cfa-4332-d082-8fe4bcc77b36"
   },
   "outputs": [
    {
     "data": {
      "text/plain": [
       "(5409, 8)"
      ]
     },
     "execution_count": 51,
     "metadata": {},
     "output_type": "execute_result"
    }
   ],
   "source": [
    "def pps_outliers(df):\n",
    "    df_out = pd.DataFrame()\n",
    "    for key, subdf in df.groupby('location'):\n",
    "        m = np.mean(subdf.price_per_sqft)\n",
    "        st = np.std(subdf.price_per_sqft)\n",
    "        reduced_df = subdf[(subdf.price_per_sqft>(m-st)) & (subdf.price_per_sqft<=(m+st))]\n",
    "        df_out = pd.concat([df_out,reduced_df],ignore_index=True)\n",
    "    return df_out\n",
    "df = pps_outliers(df)\n",
    "df.shape\n"
   ]
  },
  {
   "cell_type": "code",
   "execution_count": 52,
   "id": "dnP5cJERCXrf",
   "metadata": {
    "colab": {
     "base_uri": "https://localhost:8080/",
     "height": 369
    },
    "executionInfo": {
     "elapsed": 572,
     "status": "ok",
     "timestamp": 1670914258276,
     "user": {
      "displayName": "Shubham Bhalerao",
      "userId": "01565516305767695314"
     },
     "user_tz": -330
    },
    "id": "dnP5cJERCXrf",
    "outputId": "63d025fd-dc67-4e84-c56c-5706a1aaea51"
   },
   "outputs": [
    {
     "data": {
      "image/png": "[encoded data removed]",
      "text/plain": [
       "<Figure size 1500x500 with 2 Axes>"
      ]
     },
     "metadata": {},
     "output_type": "display_data"
    }
   ],
   "source": [
    "out_plot(\"price_per_sqft\", df)"
   ]
  },
  {
   "cell_type": "markdown",
   "id": "7dda2748",
   "metadata": {
    "id": "7dda2748"
   },
   "source": [
    "**balcony**"
   ]
  },
  {
   "cell_type": "code",
   "execution_count": 53,
   "id": "5a0fc9b6",
   "metadata": {
    "colab": {
     "base_uri": "https://localhost:8080/",
     "height": 369
    },
    "executionInfo": {
     "elapsed": 1113,
     "status": "ok",
     "timestamp": 1670914262130,
     "user": {
      "displayName": "Shubham Bhalerao",
      "userId": "01565516305767695314"
     },
     "user_tz": -330
    },
    "id": "5a0fc9b6",
    "outputId": "a03f126c-af9c-4e1b-c35f-1607367abec0",
    "scrolled": false
   },
   "outputs": [
    {
     "data": {
      "image/png": "[encoded data removed]",
      "text/plain": [
       "<Figure size 1500x500 with 2 Axes>"
      ]
     },
     "metadata": {},
     "output_type": "display_data"
    }
   ],
   "source": [
    "out_plot(\"balcony\",df)"
   ]
  },
  {
   "cell_type": "markdown",
   "id": "M22I9tWmGSeZ",
   "metadata": {
    "id": "M22I9tWmGSeZ"
   },
   "source": [
    "\n",
    "Showing no outliers in balcony column"
   ]
  },
  {
   "cell_type": "markdown",
   "id": "d40268e3",
   "metadata": {
    "id": "d40268e3"
   },
   "source": [
    "Now we will check relation of each column with price of house"
   ]
  },
  {
   "cell_type": "code",
   "execution_count": 54,
   "id": "622f4368",
   "metadata": {
    "colab": {
     "base_uri": "https://localhost:8080/",
     "height": 614
    },
    "executionInfo": {
     "elapsed": 1151,
     "status": "ok",
     "timestamp": 1670914265749,
     "user": {
      "displayName": "Shubham Bhalerao",
      "userId": "01565516305767695314"
     },
     "user_tz": -330
    },
    "id": "622f4368",
    "outputId": "64c20b49-d7cc-4a22-c4a5-fe35d0e53151"
   },
   "outputs": [
    {
     "data": {
      "text/plain": [
       "<AxesSubplot:>"
      ]
     },
     "execution_count": 54,
     "metadata": {},
     "output_type": "execute_result"
    },
    {
     "data": {
      "image/png": "[encoded data removed]",
      "text/plain": [
       "<Figure size 1500x1000 with 2 Axes>"
      ]
     },
     "metadata": {},
     "output_type": "display_data"
    }
   ],
   "source": [
    "cor=df.corr()\n",
    "sns.heatmap(cor, annot = True, cmap='Reds')"
   ]
  },
  {
   "cell_type": "markdown",
   "id": "590614c9",
   "metadata": {
    "id": "590614c9"
   },
   "source": [
    "From this heatmap we can see that columns: size, total_sqft and bath are much more relative to price..\n",
    "\n",
    "1. But balcony column showing less relation with price.\n",
    "\n",
    "2. Bath column has much more corelation with size column.\n",
    "\n",
    "So we can drop balcony & bath columns.\n",
    "\n",
    "We will also drop price per sqft column as we have no use of it further."
   ]
  },
  {
   "cell_type": "code",
   "execution_count": 55,
   "id": "0caeefe5",
   "metadata": {
    "executionInfo": {
     "elapsed": 6,
     "status": "ok",
     "timestamp": 1670914266439,
     "user": {
      "displayName": "Shubham Bhalerao",
      "userId": "01565516305767695314"
     },
     "user_tz": -330
    },
    "id": "0caeefe5"
   },
   "outputs": [],
   "source": [
    "df.drop([\"balcony\", \"price_per_sqft\", \"bath\"], axis = 1, inplace = True)"
   ]
  },
  {
   "cell_type": "code",
   "execution_count": 56,
   "id": "weEq96TazNhu",
   "metadata": {
    "colab": {
     "base_uri": "https://localhost:8080/",
     "height": 614
    },
    "executionInfo": {
     "elapsed": 1107,
     "status": "ok",
     "timestamp": 1670914281186,
     "user": {
      "displayName": "Shubham Bhalerao",
      "userId": "01565516305767695314"
     },
     "user_tz": -330
    },
    "id": "weEq96TazNhu",
    "outputId": "ce702d24-0042-4b71-af64-d3495000b800"
   },
   "outputs": [
    {
     "data": {
      "text/plain": [
       "<AxesSubplot:>"
      ]
     },
     "execution_count": 56,
     "metadata": {},
     "output_type": "execute_result"
    },
    {
     "data": {
      "image/png": "[encoded data removed]",
      "text/plain": [
       "<Figure size 1500x1000 with 2 Axes>"
      ]
     },
     "metadata": {},
     "output_type": "display_data"
    }
   ],
   "source": [
    "cor=df.corr()\n",
    "sns.heatmap(cor, annot = True, cmap='Blues')"
   ]
  },
  {
   "cell_type": "code",
   "execution_count": 57,
   "id": "202e58f0",
   "metadata": {
    "colab": {
     "base_uri": "https://localhost:8080/",
     "height": 206
    },
    "executionInfo": {
     "elapsed": 1090,
     "status": "ok",
     "timestamp": 1670914304298,
     "user": {
      "displayName": "Shubham Bhalerao",
      "userId": "01565516305767695314"
     },
     "user_tz": -330
    },
    "id": "202e58f0",
    "outputId": "e066f5a9-61a4-4978-99b0-a59b6771b78d"
   },
   "outputs": [
    {
     "data": {
      "text/html": [
       "<div>\n",
       "<style scoped>\n",
       "    .dataframe tbody tr th:only-of-type {\n",
       "        vertical-align: middle;\n",
       "    }\n",
       "\n",
       "    .dataframe tbody tr th {\n",
       "        vertical-align: top;\n",
       "    }\n",
       "\n",
       "    .dataframe thead th {\n",
       "        text-align: right;\n",
       "    }\n",
       "</style>\n",
       "<table border=\"1\" class=\"dataframe\">\n",
       "  <thead>\n",
       "    <tr style=\"text-align: right;\">\n",
       "      <th></th>\n",
       "      <th>area_type</th>\n",
       "      <th>location</th>\n",
       "      <th>total_sqft</th>\n",
       "      <th>price</th>\n",
       "      <th>bhk</th>\n",
       "    </tr>\n",
       "  </thead>\n",
       "  <tbody>\n",
       "    <tr>\n",
       "      <th>0</th>\n",
       "      <td>Super built-up Area</td>\n",
       "      <td>1st Block Jayanagar</td>\n",
       "      <td>1630.0</td>\n",
       "      <td>194.0</td>\n",
       "      <td>3</td>\n",
       "    </tr>\n",
       "    <tr>\n",
       "      <th>1</th>\n",
       "      <td>Built-up Area</td>\n",
       "      <td>1st Block Jayanagar</td>\n",
       "      <td>1200.0</td>\n",
       "      <td>130.0</td>\n",
       "      <td>3</td>\n",
       "    </tr>\n",
       "    <tr>\n",
       "      <th>2</th>\n",
       "      <td>Super built-up Area</td>\n",
       "      <td>1st Block Jayanagar</td>\n",
       "      <td>1235.0</td>\n",
       "      <td>148.0</td>\n",
       "      <td>2</td>\n",
       "    </tr>\n",
       "    <tr>\n",
       "      <th>3</th>\n",
       "      <td>Built-up Area</td>\n",
       "      <td>1st Block Koramangala</td>\n",
       "      <td>860.0</td>\n",
       "      <td>65.5</td>\n",
       "      <td>2</td>\n",
       "    </tr>\n",
       "    <tr>\n",
       "      <th>4</th>\n",
       "      <td>Super built-up Area</td>\n",
       "      <td>1st Block Koramangala</td>\n",
       "      <td>1000.0</td>\n",
       "      <td>45.0</td>\n",
       "      <td>2</td>\n",
       "    </tr>\n",
       "  </tbody>\n",
       "</table>\n",
       "</div>"
      ],
      "text/plain": [
       "             area_type               location  total_sqft  price  bhk\n",
       "0  Super built-up Area    1st Block Jayanagar      1630.0  194.0    3\n",
       "1        Built-up Area    1st Block Jayanagar      1200.0  130.0    3\n",
       "2  Super built-up Area    1st Block Jayanagar      1235.0  148.0    2\n",
       "3        Built-up Area  1st Block Koramangala       860.0   65.5    2\n",
       "4  Super built-up Area  1st Block Koramangala      1000.0   45.0    2"
      ]
     },
     "execution_count": 57,
     "metadata": {},
     "output_type": "execute_result"
    }
   ],
   "source": [
    "df.head()"
   ]
  },
  {
   "cell_type": "markdown",
   "id": "ccd29422",
   "metadata": {
    "id": "ccd29422"
   },
   "source": [
    "Data Transformation"
   ]
  },
  {
   "cell_type": "code",
   "execution_count": 58,
   "id": "57fee76c",
   "metadata": {
    "executionInfo": {
     "elapsed": 6,
     "status": "ok",
     "timestamp": 1670914305177,
     "user": {
      "displayName": "Shubham Bhalerao",
      "userId": "01565516305767695314"
     },
     "user_tz": -330
    },
    "id": "57fee76c"
   },
   "outputs": [],
   "source": [
    "# seperating target column and input features\n",
    "\n",
    "x = df.drop([\"price\"], axis = 1)\n",
    "\n",
    "y = df[\"price\"]"
   ]
  },
  {
   "cell_type": "code",
   "execution_count": 59,
   "id": "e277239d",
   "metadata": {
    "colab": {
     "base_uri": "https://localhost:8080/",
     "height": 206
    },
    "executionInfo": {
     "elapsed": 15,
     "status": "ok",
     "timestamp": 1670914306180,
     "user": {
      "displayName": "Shubham Bhalerao",
      "userId": "01565516305767695314"
     },
     "user_tz": -330
    },
    "id": "e277239d",
    "outputId": "ef182533-0473-4e60-c284-5aa634d5f4f4"
   },
   "outputs": [
    {
     "data": {
      "text/html": [
       "<div>\n",
       "<style scoped>\n",
       "    .dataframe tbody tr th:only-of-type {\n",
       "        vertical-align: middle;\n",
       "    }\n",
       "\n",
       "    .dataframe tbody tr th {\n",
       "        vertical-align: top;\n",
       "    }\n",
       "\n",
       "    .dataframe thead th {\n",
       "        text-align: right;\n",
       "    }\n",
       "</style>\n",
       "<table border=\"1\" class=\"dataframe\">\n",
       "  <thead>\n",
       "    <tr style=\"text-align: right;\">\n",
       "      <th></th>\n",
       "      <th>area_type</th>\n",
       "      <th>location</th>\n",
       "      <th>total_sqft</th>\n",
       "      <th>bhk</th>\n",
       "    </tr>\n",
       "  </thead>\n",
       "  <tbody>\n",
       "    <tr>\n",
       "      <th>0</th>\n",
       "      <td>Super built-up Area</td>\n",
       "      <td>1st Block Jayanagar</td>\n",
       "      <td>1630.0</td>\n",
       "      <td>3</td>\n",
       "    </tr>\n",
       "    <tr>\n",
       "      <th>1</th>\n",
       "      <td>Built-up Area</td>\n",
       "      <td>1st Block Jayanagar</td>\n",
       "      <td>1200.0</td>\n",
       "      <td>3</td>\n",
       "    </tr>\n",
       "    <tr>\n",
       "      <th>2</th>\n",
       "      <td>Super built-up Area</td>\n",
       "      <td>1st Block Jayanagar</td>\n",
       "      <td>1235.0</td>\n",
       "      <td>2</td>\n",
       "    </tr>\n",
       "    <tr>\n",
       "      <th>3</th>\n",
       "      <td>Built-up Area</td>\n",
       "      <td>1st Block Koramangala</td>\n",
       "      <td>860.0</td>\n",
       "      <td>2</td>\n",
       "    </tr>\n",
       "    <tr>\n",
       "      <th>4</th>\n",
       "      <td>Super built-up Area</td>\n",
       "      <td>1st Block Koramangala</td>\n",
       "      <td>1000.0</td>\n",
       "      <td>2</td>\n",
       "    </tr>\n",
       "  </tbody>\n",
       "</table>\n",
       "</div>"
      ],
      "text/plain": [
       "             area_type               location  total_sqft  bhk\n",
       "0  Super built-up Area    1st Block Jayanagar      1630.0    3\n",
       "1        Built-up Area    1st Block Jayanagar      1200.0    3\n",
       "2  Super built-up Area    1st Block Jayanagar      1235.0    2\n",
       "3        Built-up Area  1st Block Koramangala       860.0    2\n",
       "4  Super built-up Area  1st Block Koramangala      1000.0    2"
      ]
     },
     "execution_count": 59,
     "metadata": {},
     "output_type": "execute_result"
    }
   ],
   "source": [
    "x.head()"
   ]
  },
  {
   "cell_type": "code",
   "execution_count": 62,
   "id": "53980e79",
   "metadata": {
    "colab": {
     "base_uri": "https://localhost:8080/"
    },
    "executionInfo": {
     "elapsed": 6,
     "status": "ok",
     "timestamp": 1670914306678,
     "user": {
      "displayName": "Shubham Bhalerao",
      "userId": "01565516305767695314"
     },
     "user_tz": -330
    },
    "id": "53980e79",
    "outputId": "cf1ad511-28cb-4bf7-fa46-5f8aa9150da1"
   },
   "outputs": [
    {
     "data": {
      "text/plain": [
       "(['area_type', 'location'], ['total_sqft', 'bhk'])"
      ]
     },
     "execution_count": 62,
     "metadata": {},
     "output_type": "execute_result"
    }
   ],
   "source": [
    "# seperating x into categorical column and numerical columns\n",
    "\n",
    "cat_col = [col for col in x.columns if x[col].dtype == \"object\"]\n",
    "\n",
    "num_col = [col for col in x.columns if x[col].dtype != \"object\"]\n",
    "\n",
    "cat_col, num_col"
   ]
  },
  {
   "cell_type": "code",
   "execution_count": 63,
   "id": "de6e6c43",
   "metadata": {
    "colab": {
     "base_uri": "https://localhost:8080/"
    },
    "executionInfo": {
     "elapsed": 554,
     "status": "ok",
     "timestamp": 1670919778668,
     "user": {
      "displayName": "Shubham Bhalerao",
      "userId": "01565516305767695314"
     },
     "user_tz": -330
    },
    "id": "de6e6c43",
    "outputId": "4bfc2c32-5266-43c1-c039-02c8686f9f91"
   },
   "outputs": [
    {
     "name": "stdout",
     "output_type": "stream",
     "text": [
      "Shape of x_train -: (4327, 4)\n",
      "Shape of x_valid -: (1082, 4)\n",
      "Shape of y_train -: (4327,)\n",
      "Shape of y_valid -: (1082,)\n"
     ]
    }
   ],
   "source": [
    "# seperate validation data from training data\n",
    "\n",
    "x_train, x_valid, y_train, y_valid = train_test_split(x, y, train_size = 0.80, random_state = 42)\n",
    "\n",
    "print(f'Shape of x_train -: {x_train.shape}')\n",
    "print(f'Shape of x_valid -: {x_valid.shape}')\n",
    "print(f'Shape of y_train -: {y_train.shape}')\n",
    "print(f'Shape of y_valid -: {y_valid.shape}')"
   ]
  },
  {
   "cell_type": "markdown",
   "id": "276f71bc",
   "metadata": {
    "id": "276f71bc"
   },
   "source": [
    "Encoding categorical columns\n",
    "\n",
    "Checking categories in x_train and in x_valid are same or not."
   ]
  },
  {
   "cell_type": "code",
   "execution_count": 64,
   "id": "d762c44e",
   "metadata": {
    "colab": {
     "base_uri": "https://localhost:8080/"
    },
    "executionInfo": {
     "elapsed": 408,
     "status": "ok",
     "timestamp": 1670919784431,
     "user": {
      "displayName": "Shubham Bhalerao",
      "userId": "01565516305767695314"
     },
     "user_tz": -330
    },
    "id": "d762c44e",
    "outputId": "ffddbb82-184f-4ebd-806d-5354429a1b47"
   },
   "outputs": [
    {
     "data": {
      "text/plain": [
       "True"
      ]
     },
     "execution_count": 64,
     "metadata": {},
     "output_type": "execute_result"
    }
   ],
   "source": [
    "set(x_train[\"area_type\"]) == set(x_valid[\"area_type\"])"
   ]
  },
  {
   "cell_type": "code",
   "execution_count": 65,
   "id": "8b5a9051",
   "metadata": {
    "colab": {
     "base_uri": "https://localhost:8080/"
    },
    "executionInfo": {
     "elapsed": 27,
     "status": "ok",
     "timestamp": 1670919785299,
     "user": {
      "displayName": "Shubham Bhalerao",
      "userId": "01565516305767695314"
     },
     "user_tz": -330
    },
    "id": "8b5a9051",
    "outputId": "9bff1d17-0312-4de0-8a62-a25030c4384f"
   },
   "outputs": [
    {
     "data": {
      "text/plain": [
       "False"
      ]
     },
     "execution_count": 65,
     "metadata": {},
     "output_type": "execute_result"
    }
   ],
   "source": [
    "set(x_train[\"location\"]) == set(x_valid[\"location\"])"
   ]
  },
  {
   "cell_type": "markdown",
   "id": "4a0dfb1d",
   "metadata": {
    "id": "4a0dfb1d"
   },
   "source": [
    "As categories are not same we can't use label encoding. \n",
    "\n",
    "In location column have 337 different categories so we can't use One Hot Encoder on location column.\n",
    "\n",
    "So we are using Ordinal Encoder with all unknown categories in validation set will be set to specific number (i.e. -99)"
   ]
  },
  {
   "cell_type": "code",
   "execution_count": 66,
   "id": "8cd6ae49",
   "metadata": {
    "executionInfo": {
     "elapsed": 2,
     "status": "ok",
     "timestamp": 1670919786347,
     "user": {
      "displayName": "Shubham Bhalerao",
      "userId": "01565516305767695314"
     },
     "user_tz": -330
    },
    "id": "8cd6ae49"
   },
   "outputs": [],
   "source": [
    "# encoding\n",
    "\n",
    "ct_encoding = ColumnTransformer([(\"ord_encd\", OrdinalEncoder(handle_unknown = \"use_encoded_value\", unknown_value = -99),\n",
    "                                  [0,1])],remainder = \"passthrough\")"
   ]
  },
  {
   "cell_type": "code",
   "execution_count": 67,
   "id": "4cf67ab4",
   "metadata": {
    "executionInfo": {
     "elapsed": 9,
     "status": "ok",
     "timestamp": 1670919787161,
     "user": {
      "displayName": "Shubham Bhalerao",
      "userId": "01565516305767695314"
     },
     "user_tz": -330
    },
    "id": "4cf67ab4"
   },
   "outputs": [],
   "source": [
    "# Scaling\n",
    "\n",
    "ct_scaling = ColumnTransformer([(\"Std_Scale\", StandardScaler(), [0,1,2,3])])"
   ]
  },
  {
   "cell_type": "code",
   "execution_count": 68,
   "id": "4eaf6db0",
   "metadata": {
    "colab": {
     "base_uri": "https://localhost:8080/",
     "height": 259
    },
    "executionInfo": {
     "elapsed": 10,
     "status": "ok",
     "timestamp": 1670919787163,
     "user": {
      "displayName": "Shubham Bhalerao",
      "userId": "01565516305767695314"
     },
     "user_tz": -330
    },
    "id": "4eaf6db0",
    "outputId": "2e81c193-a89c-4460-b395-6268c300d3be"
   },
   "outputs": [
    {
     "data": {
      "text/html": [
       "<style>#sk-ad6de22a-0a86-4991-80de-d6322543ab18 {color: black;background-color: white;}#sk-ad6de22a-0a86-4991-80de-d6322543ab18 pre{padding: 0;}#sk-ad6de22a-0a86-4991-80de-d6322543ab18 div.sk-toggleable {background-color: white;}#sk-ad6de22a-0a86-4991-80de-d6322543ab18 label.sk-toggleable__label {cursor: pointer;display: block;width: 100%;margin-bottom: 0;padding: 0.3em;box-sizing: border-box;text-align: center;}#sk-ad6de22a-0a86-4991-80de-d6322543ab18 label.sk-toggleable__label-arrow:before {content: \"▸\";float: left;margin-right: 0.25em;color: #696969;}#sk-ad6de22a-0a86-4991-80de-d6322543ab18 label.sk-toggleable__label-arrow:hover:before {color: black;}#sk-ad6de22a-0a86-4991-80de-d6322543ab18 div.sk-estimator:hover label.sk-toggleable__label-arrow:before {color: black;}#sk-ad6de22a-0a86-4991-80de-d6322543ab18 div.sk-toggleable__content {max-height: 0;max-width: 0;overflow: hidden;text-align: left;background-color: #f0f8ff;}#sk-ad6de22a-0a86-4991-80de-d6322543ab18 div.sk-toggleable__content pre {margin: 0.2em;color: black;border-radius: 0.25em;background-color: #f0f8ff;}#sk-ad6de22a-0a86-4991-80de-d6322543ab18 input.sk-toggleable__control:checked~div.sk-toggleable__content {max-height: 200px;max-width: 100%;overflow: auto;}#sk-ad6de22a-0a86-4991-80de-d6322543ab18 input.sk-toggleable__control:checked~label.sk-toggleable__label-arrow:before {content: \"▾\";}#sk-ad6de22a-0a86-4991-80de-d6322543ab18 div.sk-estimator input.sk-toggleable__control:checked~label.sk-toggleable__label {background-color: #d4ebff;}#sk-ad6de22a-0a86-4991-80de-d6322543ab18 div.sk-label input.sk-toggleable__control:checked~label.sk-toggleable__label {background-color: #d4ebff;}#sk-ad6de22a-0a86-4991-80de-d6322543ab18 input.sk-hidden--visually {border: 0;clip: rect(1px 1px 1px 1px);clip: rect(1px, 1px, 1px, 1px);height: 1px;margin: -1px;overflow: hidden;padding: 0;position: absolute;width: 1px;}#sk-ad6de22a-0a86-4991-80de-d6322543ab18 div.sk-estimator {font-family: monospace;background-color: #f0f8ff;border: 1px dotted black;border-radius: 0.25em;box-sizing: border-box;margin-bottom: 0.5em;}#sk-ad6de22a-0a86-4991-80de-d6322543ab18 div.sk-estimator:hover {background-color: #d4ebff;}#sk-ad6de22a-0a86-4991-80de-d6322543ab18 div.sk-parallel-item::after {content: \"\";width: 100%;border-bottom: 1px solid gray;flex-grow: 1;}#sk-ad6de22a-0a86-4991-80de-d6322543ab18 div.sk-label:hover label.sk-toggleable__label {background-color: #d4ebff;}#sk-ad6de22a-0a86-4991-80de-d6322543ab18 div.sk-serial::before {content: \"\";position: absolute;border-left: 1px solid gray;box-sizing: border-box;top: 2em;bottom: 0;left: 50%;}#sk-ad6de22a-0a86-4991-80de-d6322543ab18 div.sk-serial {display: flex;flex-direction: column;align-items: center;background-color: white;padding-right: 0.2em;padding-left: 0.2em;}#sk-ad6de22a-0a86-4991-80de-d6322543ab18 div.sk-item {z-index: 1;}#sk-ad6de22a-0a86-4991-80de-d6322543ab18 div.sk-parallel {display: flex;align-items: stretch;justify-content: center;background-color: white;}#sk-ad6de22a-0a86-4991-80de-d6322543ab18 div.sk-parallel::before {content: \"\";position: absolute;border-left: 1px solid gray;box-sizing: border-box;top: 2em;bottom: 0;left: 50%;}#sk-ad6de22a-0a86-4991-80de-d6322543ab18 div.sk-parallel-item {display: flex;flex-direction: column;position: relative;background-color: white;}#sk-ad6de22a-0a86-4991-80de-d6322543ab18 div.sk-parallel-item:first-child::after {align-self: flex-end;width: 50%;}#sk-ad6de22a-0a86-4991-80de-d6322543ab18 div.sk-parallel-item:last-child::after {align-self: flex-start;width: 50%;}#sk-ad6de22a-0a86-4991-80de-d6322543ab18 div.sk-parallel-item:only-child::after {width: 0;}#sk-ad6de22a-0a86-4991-80de-d6322543ab18 div.sk-dashed-wrapped {border: 1px dashed gray;margin: 0 0.4em 0.5em 0.4em;box-sizing: border-box;padding-bottom: 0.4em;background-color: white;position: relative;}#sk-ad6de22a-0a86-4991-80de-d6322543ab18 div.sk-label label {font-family: monospace;font-weight: bold;background-color: white;display: inline-block;line-height: 1.2em;}#sk-ad6de22a-0a86-4991-80de-d6322543ab18 div.sk-label-container {position: relative;z-index: 2;text-align: center;}#sk-ad6de22a-0a86-4991-80de-d6322543ab18 div.sk-container {/* jupyter's `normalize.less` sets `[hidden] { display: none; }` but bootstrap.min.css set `[hidden] { display: none !important; }` so we also need the `!important` here to be able to override the default hidden behavior on the sphinx rendered scikit-learn.org. See: https://github.com/scikit-learn/scikit-learn/issues/21755 */display: inline-block !important;position: relative;}#sk-ad6de22a-0a86-4991-80de-d6322543ab18 div.sk-text-repr-fallback {display: none;}</style><div id=\"sk-ad6de22a-0a86-4991-80de-d6322543ab18\" class=\"sk-top-container\"><div class=\"sk-text-repr-fallback\"><pre>Pipeline(steps=[(&#x27;Encoding&#x27;,\n",
       "                 ColumnTransformer(remainder=&#x27;passthrough&#x27;,\n",
       "                                   transformers=[(&#x27;ord_encd&#x27;,\n",
       "                                                  OrdinalEncoder(handle_unknown=&#x27;use_encoded_value&#x27;,\n",
       "                                                                 unknown_value=-99),\n",
       "                                                  [0, 1])])),\n",
       "                (&#x27;scaling&#x27;,\n",
       "                 ColumnTransformer(transformers=[(&#x27;Std_Scale&#x27;, StandardScaler(),\n",
       "                                                  [0, 1, 2, 3])]))])</pre><b>Please rerun this cell to show the HTML repr or trust the notebook.</b></div><div class=\"sk-container\" hidden><div class=\"sk-item sk-dashed-wrapped\"><div class=\"sk-label-container\"><div class=\"sk-label sk-toggleable\"><input class=\"sk-toggleable__control sk-hidden--visually\" id=\"9e07992b-624d-4631-a203-0ae52b3cad22\" type=\"checkbox\" ><label for=\"9e07992b-624d-4631-a203-0ae52b3cad22\" class=\"sk-toggleable__label sk-toggleable__label-arrow\">Pipeline</label><div class=\"sk-toggleable__content\"><pre>Pipeline(steps=[(&#x27;Encoding&#x27;,\n",
       "                 ColumnTransformer(remainder=&#x27;passthrough&#x27;,\n",
       "                                   transformers=[(&#x27;ord_encd&#x27;,\n",
       "                                                  OrdinalEncoder(handle_unknown=&#x27;use_encoded_value&#x27;,\n",
       "                                                                 unknown_value=-99),\n",
       "                                                  [0, 1])])),\n",
       "                (&#x27;scaling&#x27;,\n",
       "                 ColumnTransformer(transformers=[(&#x27;Std_Scale&#x27;, StandardScaler(),\n",
       "                                                  [0, 1, 2, 3])]))])</pre></div></div></div><div class=\"sk-serial\"><div class=\"sk-item sk-dashed-wrapped\"><div class=\"sk-label-container\"><div class=\"sk-label sk-toggleable\"><input class=\"sk-toggleable__control sk-hidden--visually\" id=\"5d404e94-2077-42e5-8712-a9c8869bb5e5\" type=\"checkbox\" ><label for=\"5d404e94-2077-42e5-8712-a9c8869bb5e5\" class=\"sk-toggleable__label sk-toggleable__label-arrow\">Encoding: ColumnTransformer</label><div class=\"sk-toggleable__content\"><pre>ColumnTransformer(remainder=&#x27;passthrough&#x27;,\n",
       "                  transformers=[(&#x27;ord_encd&#x27;,\n",
       "                                 OrdinalEncoder(handle_unknown=&#x27;use_encoded_value&#x27;,\n",
       "                                                unknown_value=-99),\n",
       "                                 [0, 1])])</pre></div></div></div><div class=\"sk-parallel\"><div class=\"sk-parallel-item\"><div class=\"sk-item\"><div class=\"sk-label-container\"><div class=\"sk-label sk-toggleable\"><input class=\"sk-toggleable__control sk-hidden--visually\" id=\"753c8101-5138-45fd-8833-287f463d5366\" type=\"checkbox\" ><label for=\"753c8101-5138-45fd-8833-287f463d5366\" class=\"sk-toggleable__label sk-toggleable__label-arrow\">ord_encd</label><div class=\"sk-toggleable__content\"><pre>[0, 1]</pre></div></div></div><div class=\"sk-serial\"><div class=\"sk-item\"><div class=\"sk-estimator sk-toggleable\"><input class=\"sk-toggleable__control sk-hidden--visually\" id=\"fa1d5d8a-78f2-414c-9cf7-09eb36eecff4\" type=\"checkbox\" ><label for=\"fa1d5d8a-78f2-414c-9cf7-09eb36eecff4\" class=\"sk-toggleable__label sk-toggleable__label-arrow\">OrdinalEncoder</label><div class=\"sk-toggleable__content\"><pre>OrdinalEncoder(handle_unknown=&#x27;use_encoded_value&#x27;, unknown_value=-99)</pre></div></div></div></div></div></div><div class=\"sk-parallel-item\"><div class=\"sk-item\"><div class=\"sk-label-container\"><div class=\"sk-label sk-toggleable\"><input class=\"sk-toggleable__control sk-hidden--visually\" id=\"7ae60160-ffd9-4dcf-a995-a601effe811a\" type=\"checkbox\" ><label for=\"7ae60160-ffd9-4dcf-a995-a601effe811a\" class=\"sk-toggleable__label sk-toggleable__label-arrow\">remainder</label><div class=\"sk-toggleable__content\"><pre></pre></div></div></div><div class=\"sk-serial\"><div class=\"sk-item\"><div class=\"sk-estimator sk-toggleable\"><input class=\"sk-toggleable__control sk-hidden--visually\" id=\"bae666bb-3a13-451b-9773-9cf0ec49e111\" type=\"checkbox\" ><label for=\"bae666bb-3a13-451b-9773-9cf0ec49e111\" class=\"sk-toggleable__label sk-toggleable__label-arrow\">passthrough</label><div class=\"sk-toggleable__content\"><pre>passthrough</pre></div></div></div></div></div></div></div></div><div class=\"sk-item sk-dashed-wrapped\"><div class=\"sk-label-container\"><div class=\"sk-label sk-toggleable\"><input class=\"sk-toggleable__control sk-hidden--visually\" id=\"3a9deef4-2a16-44f3-aae1-681de613ddd0\" type=\"checkbox\" ><label for=\"3a9deef4-2a16-44f3-aae1-681de613ddd0\" class=\"sk-toggleable__label sk-toggleable__label-arrow\">scaling: ColumnTransformer</label><div class=\"sk-toggleable__content\"><pre>ColumnTransformer(transformers=[(&#x27;Std_Scale&#x27;, StandardScaler(), [0, 1, 2, 3])])</pre></div></div></div><div class=\"sk-parallel\"><div class=\"sk-parallel-item\"><div class=\"sk-item\"><div class=\"sk-label-container\"><div class=\"sk-label sk-toggleable\"><input class=\"sk-toggleable__control sk-hidden--visually\" id=\"24c1309a-1f33-4497-9b62-f72705944670\" type=\"checkbox\" ><label for=\"24c1309a-1f33-4497-9b62-f72705944670\" class=\"sk-toggleable__label sk-toggleable__label-arrow\">Std_Scale</label><div class=\"sk-toggleable__content\"><pre>[0, 1, 2, 3]</pre></div></div></div><div class=\"sk-serial\"><div class=\"sk-item\"><div class=\"sk-estimator sk-toggleable\"><input class=\"sk-toggleable__control sk-hidden--visually\" id=\"0a3c0152-f189-44ee-b8d9-3035c08598e4\" type=\"checkbox\" ><label for=\"0a3c0152-f189-44ee-b8d9-3035c08598e4\" class=\"sk-toggleable__label sk-toggleable__label-arrow\">StandardScaler</label><div class=\"sk-toggleable__content\"><pre>StandardScaler()</pre></div></div></div></div></div></div></div></div></div></div></div></div>"
      ],
      "text/plain": [
       "Pipeline(steps=[('Encoding',\n",
       "                 ColumnTransformer(remainder='passthrough',\n",
       "                                   transformers=[('ord_encd',\n",
       "                                                  OrdinalEncoder(handle_unknown='use_encoded_value',\n",
       "                                                                 unknown_value=-99),\n",
       "                                                  [0, 1])])),\n",
       "                ('scaling',\n",
       "                 ColumnTransformer(transformers=[('Std_Scale', StandardScaler(),\n",
       "                                                  [0, 1, 2, 3])]))])"
      ]
     },
     "execution_count": 68,
     "metadata": {},
     "output_type": "execute_result"
    }
   ],
   "source": [
    "# creating pipeline\n",
    "\n",
    "pipe = Pipeline([('Encoding', ct_encoding), ('scaling', ct_scaling)])\n",
    "pipe"
   ]
  },
  {
   "cell_type": "code",
   "execution_count": 69,
   "id": "481e27ba",
   "metadata": {
    "executionInfo": {
     "elapsed": 3,
     "status": "ok",
     "timestamp": 1670919789267,
     "user": {
      "displayName": "Shubham Bhalerao",
      "userId": "01565516305767695314"
     },
     "user_tz": -330
    },
    "id": "481e27ba"
   },
   "outputs": [],
   "source": [
    "x_train_scaled = pd.DataFrame(pipe.fit_transform(x_train), columns = x_train.columns)"
   ]
  },
  {
   "cell_type": "code",
   "execution_count": 70,
   "id": "322ccfc5",
   "metadata": {
    "executionInfo": {
     "elapsed": 3,
     "status": "ok",
     "timestamp": 1670919790633,
     "user": {
      "displayName": "Shubham Bhalerao",
      "userId": "01565516305767695314"
     },
     "user_tz": -330
    },
    "id": "322ccfc5"
   },
   "outputs": [],
   "source": [
    "x_valid_scaled = pd.DataFrame(pipe.transform(x_valid), columns = x_valid.columns )"
   ]
  },
  {
   "cell_type": "markdown",
   "id": "5094ab54",
   "metadata": {
    "id": "5094ab54"
   },
   "source": [
    "### Creating ML Model:"
   ]
  },
  {
   "cell_type": "code",
   "execution_count": 65,
   "id": "71f5454c",
   "metadata": {
    "executionInfo": {
     "elapsed": 776,
     "status": "ok",
     "timestamp": 1670919793404,
     "user": {
      "displayName": "Shubham Bhalerao",
      "userId": "01565516305767695314"
     },
     "user_tz": -330
    },
    "id": "71f5454c"
   },
   "outputs": [],
   "source": [
    "model_lr = LinearRegression()"
   ]
  },
  {
   "cell_type": "code",
   "execution_count": 66,
   "id": "7c54ad13",
   "metadata": {
    "executionInfo": {
     "elapsed": 7,
     "status": "ok",
     "timestamp": 1670919794538,
     "user": {
      "displayName": "Shubham Bhalerao",
      "userId": "01565516305767695314"
     },
     "user_tz": -330
    },
    "id": "7c54ad13"
   },
   "outputs": [],
   "source": [
    "model_xgb = xgb.XGBRegressor(booster = 'gbtree', n_estimators = 100, max_depth = 6, eval_metric = 'rmse')"
   ]
  },
  {
   "cell_type": "code",
   "execution_count": 67,
   "id": "5fd171e0",
   "metadata": {
    "executionInfo": {
     "elapsed": 3,
     "status": "ok",
     "timestamp": 1670919796051,
     "user": {
      "displayName": "Shubham Bhalerao",
      "userId": "01565516305767695314"
     },
     "user_tz": -330
    },
    "id": "5fd171e0"
   },
   "outputs": [],
   "source": [
    "model_rfr = RandomForestRegressor(n_estimators = 100)"
   ]
  },
  {
   "cell_type": "code",
   "execution_count": 68,
   "id": "7df361d2",
   "metadata": {
    "executionInfo": {
     "elapsed": 6,
     "status": "ok",
     "timestamp": 1670919796640,
     "user": {
      "displayName": "Shubham Bhalerao",
      "userId": "01565516305767695314"
     },
     "user_tz": -330
    },
    "id": "7df361d2"
   },
   "outputs": [],
   "source": [
    "model_ridge = Ridge(alpha = 1)"
   ]
  },
  {
   "cell_type": "code",
   "execution_count": 69,
   "id": "480bc7d6",
   "metadata": {
    "executionInfo": {
     "elapsed": 3,
     "status": "ok",
     "timestamp": 1670919797381,
     "user": {
      "displayName": "Shubham Bhalerao",
      "userId": "01565516305767695314"
     },
     "user_tz": -330
    },
    "id": "480bc7d6"
   },
   "outputs": [],
   "source": [
    "models = {'Linear Regression' : model_lr, 'XGB Regressor' : model_xgb,\n",
    "          'Random Forest Regressor' : model_rfr, 'Ridge Regression' : model_ridge}"
   ]
  },
  {
   "cell_type": "markdown",
   "id": "9c7e1420",
   "metadata": {
    "id": "9c7e1420"
   },
   "source": [
    "Now we will check **accuracy for each model on training and testing dataset.**"
   ]
  },
  {
   "cell_type": "code",
   "execution_count": 70,
   "id": "fe463ac8",
   "metadata": {
    "executionInfo": {
     "elapsed": 4,
     "status": "ok",
     "timestamp": 1670919798256,
     "user": {
      "displayName": "Shubham Bhalerao",
      "userId": "01565516305767695314"
     },
     "user_tz": -330
    },
    "id": "fe463ac8"
   },
   "outputs": [],
   "source": [
    "def model_score(model, x_train, y_train, x_valid, y_valid):\n",
    "    model.fit(x_train, y_train)\n",
    "    y_preds= model.predict(x_valid)\n",
    "    mse = mean_squared_error(y_valid, y_preds)\n",
    "    return model.score(x_train, y_train), model.score(x_valid, y_valid), mse, np.sqrt(mse)"
   ]
  },
  {
   "cell_type": "code",
   "execution_count": 71,
   "id": "e4644fc7",
   "metadata": {
    "colab": {
     "base_uri": "https://localhost:8080/",
     "height": 193
    },
    "executionInfo": {
     "elapsed": 2611,
     "status": "ok",
     "timestamp": 1670919822954,
     "user": {
      "displayName": "Shubham Bhalerao",
      "userId": "01565516305767695314"
     },
     "user_tz": -330
    },
    "id": "e4644fc7",
    "outputId": "c3c7fe5f-e476-492a-8813-2d28959b2cbc"
   },
   "outputs": [
    {
     "data": {
      "text/html": [
       "<div>\n",
       "<style scoped>\n",
       "    .dataframe tbody tr th:only-of-type {\n",
       "        vertical-align: middle;\n",
       "    }\n",
       "\n",
       "    .dataframe tbody tr th {\n",
       "        vertical-align: top;\n",
       "    }\n",
       "\n",
       "    .dataframe thead th {\n",
       "        text-align: right;\n",
       "    }\n",
       "</style>\n",
       "<table border=\"1\" class=\"dataframe\">\n",
       "  <thead>\n",
       "    <tr style=\"text-align: right;\">\n",
       "      <th></th>\n",
       "      <th>Model</th>\n",
       "      <th>Training Score</th>\n",
       "      <th>Validation Score</th>\n",
       "      <th>MSE</th>\n",
       "      <th>RMSE</th>\n",
       "    </tr>\n",
       "  </thead>\n",
       "  <tbody>\n",
       "    <tr>\n",
       "      <th>0</th>\n",
       "      <td>Linear Regression</td>\n",
       "      <td>0.699703</td>\n",
       "      <td>0.686155</td>\n",
       "      <td>386.448605</td>\n",
       "      <td>19.658296</td>\n",
       "    </tr>\n",
       "    <tr>\n",
       "      <th>1</th>\n",
       "      <td>XGB Regressor</td>\n",
       "      <td>0.955551</td>\n",
       "      <td>0.877602</td>\n",
       "      <td>150.712893</td>\n",
       "      <td>12.276518</td>\n",
       "    </tr>\n",
       "    <tr>\n",
       "      <th>2</th>\n",
       "      <td>Random Forest Regressor</td>\n",
       "      <td>0.961891</td>\n",
       "      <td>0.807296</td>\n",
       "      <td>237.284240</td>\n",
       "      <td>15.404033</td>\n",
       "    </tr>\n",
       "    <tr>\n",
       "      <th>3</th>\n",
       "      <td>Ridge Regression</td>\n",
       "      <td>0.699703</td>\n",
       "      <td>0.686184</td>\n",
       "      <td>386.413857</td>\n",
       "      <td>19.657412</td>\n",
       "    </tr>\n",
       "  </tbody>\n",
       "</table>\n",
       "</div>"
      ],
      "text/plain": [
       "                     Model  Training Score  Validation Score         MSE  \\\n",
       "0        Linear Regression        0.699703          0.686155  386.448605   \n",
       "1            XGB Regressor        0.955551          0.877602  150.712893   \n",
       "2  Random Forest Regressor        0.961891          0.807296  237.284240   \n",
       "3         Ridge Regression        0.699703          0.686184  386.413857   \n",
       "\n",
       "        RMSE  \n",
       "0  19.658296  \n",
       "1  12.276518  \n",
       "2  15.404033  \n",
       "3  19.657412  "
      ]
     },
     "execution_count": 71,
     "metadata": {},
     "output_type": "execute_result"
    }
   ],
   "source": [
    "acc_train = []\n",
    "acc_valid = []\n",
    "mse = []\n",
    "rmse = []\n",
    "\n",
    "for key,value in models.items():\n",
    "    acc_tr, acc_vd, mse_scr, rmse_scr = model_score(value, x_train_scaled, y_train, x_valid_scaled, y_valid)\n",
    "    acc_train.append(acc_tr)\n",
    "    acc_valid.append(acc_vd)\n",
    "    mse.append(mse_scr)\n",
    "    rmse.append(rmse_scr)\n",
    "    \n",
    "acc_data = pd.DataFrame({'Model' : models.keys(), 'Training Score' : acc_train, 'Validation Score' : acc_valid, \n",
    "                        'MSE' : mse, 'RMSE' : rmse})\n",
    "acc_data"
   ]
  },
  {
   "cell_type": "markdown",
   "id": "c652c30d",
   "metadata": {
    "id": "c652c30d"
   },
   "source": [
    "Model Selection:\n",
    "\n",
    "---\n",
    "\n",
    "\n",
    "From above results we are selecting **xgb regressor** as our final model."
   ]
  },
  {
   "cell_type": "markdown",
   "id": "AsHe63FIz7Eb",
   "metadata": {
    "id": "AsHe63FIz7Eb"
   },
   "source": [
    "**Hyperparameter tuning:**\n",
    "\n",
    "First we will see feature importance for this model."
   ]
  },
  {
   "cell_type": "code",
   "execution_count": 72,
   "id": "Pz60NjsL60ny",
   "metadata": {
    "colab": {
     "base_uri": "https://localhost:8080/",
     "height": 693
    },
    "executionInfo": {
     "elapsed": 949,
     "status": "ok",
     "timestamp": 1670919832730,
     "user": {
      "displayName": "Shubham Bhalerao",
      "userId": "01565516305767695314"
     },
     "user_tz": -330
    },
    "id": "Pz60NjsL60ny",
    "outputId": "4267d6d7-4a4c-42ca-df6e-214667fce335"
   },
   "outputs": [
    {
     "data": {
      "text/plain": [
       "<AxesSubplot:title={'center':'Feature importance'}, xlabel='F score', ylabel='Features'>"
      ]
     },
     "execution_count": 72,
     "metadata": {},
     "output_type": "execute_result"
    },
    {
     "data": {
      "image/png": "[encoded data removed]",
      "text/plain": [
       "<Figure size 1080x720 with 1 Axes>"
      ]
     },
     "metadata": {
      "needs_background": "light"
     },
     "output_type": "display_data"
    }
   ],
   "source": [
    "xgb.plot_importance(model_xgb)"
   ]
  },
  {
   "cell_type": "markdown",
   "id": "65611fe5",
   "metadata": {
    "id": "65611fe5"
   },
   "source": [
    "**Final Model:**\n",
    "XGB Regressor with hyper parameters find out using grid search cv is our final model."
   ]
  },
  {
   "cell_type": "code",
   "execution_count": 71,
   "id": "pKzOSzDmke3-",
   "metadata": {
    "executionInfo": {
     "elapsed": 1275,
     "status": "ok",
     "timestamp": 1670919839459,
     "user": {
      "displayName": "Shubham Bhalerao",
      "userId": "01565516305767695314"
     },
     "user_tz": -330
    },
    "id": "pKzOSzDmke3-"
   },
   "outputs": [],
   "source": [
    "final_model = xgb.XGBRegressor(booster = 'gbtree', max_depth=3, n_estimators=500, alpha = 0.1, eta = 0.01, \n",
    "                            reg_lambda = 0, gamma = 1, eval_metric = 'rmse', random_state=42)"
   ]
  },
  {
   "cell_type": "code",
   "execution_count": 72,
   "id": "VjI3n0P4Q3g5",
   "metadata": {
    "colab": {
     "base_uri": "https://localhost:8080/"
    },
    "executionInfo": {
     "elapsed": 512,
     "status": "ok",
     "timestamp": 1670919842436,
     "user": {
      "displayName": "Shubham Bhalerao",
      "userId": "01565516305767695314"
     },
     "user_tz": -330
    },
    "id": "VjI3n0P4Q3g5",
    "outputId": "4b7b5b71-cced-4eff-c115-ba8f977ffd1f"
   },
   "outputs": [
    {
     "name": "stdout",
     "output_type": "stream",
     "text": [
      "Training Score: 0.7868037270990109\n",
      "Testing Score: 0.7761545386636717\n",
      "MSE: 275.629298615652\n"
     ]
    }
   ],
   "source": [
    "final_model.fit(x_train_scaled, y_train)\n",
    "\n",
    "y_preds = final_model.predict(x_valid_scaled)\n",
    "\n",
    "print(\"Training Score:\",final_model.score(x_train_scaled, y_train))\n",
    "print(\"Testing Score:\",final_model.score(x_valid_scaled, y_valid))\n",
    "print(\"MSE:\",mean_squared_error(y_valid, y_preds))"
   ]
  },
  {
   "cell_type": "code",
   "execution_count": 73,
   "id": "e583eb62",
   "metadata": {
    "colab": {
     "base_uri": "https://localhost:8080/"
    },
    "executionInfo": {
     "elapsed": 1073,
     "status": "ok",
     "timestamp": 1670919847587,
     "user": {
      "displayName": "Shubham Bhalerao",
      "userId": "01565516305767695314"
     },
     "user_tz": -330
    },
    "id": "e583eb62",
    "outputId": "b672d426-d0a1-4b17-f6f5-d509bfe28927"
   },
   "outputs": [
    {
     "data": {
      "text/plain": [
       "(0    109.715317\n",
       " 1    151.260925\n",
       " 2     54.077641\n",
       " 3     51.217545\n",
       " 4     60.305668\n",
       " dtype: float32,\n",
       " 5041    150.00\n",
       " 2407    149.00\n",
       " 3589     45.79\n",
       " 381      55.00\n",
       " 3098     75.00\n",
       " Name: price, dtype: float64)"
      ]
     },
     "execution_count": 73,
     "metadata": {},
     "output_type": "execute_result"
    }
   ],
   "source": [
    "# predicted prices vs actual prices\n",
    "pd.Series(y_preds).head(), y_valid.head()"
   ]
  },
  {
   "cell_type": "code",
   "execution_count": 76,
   "id": "xmlB9XMYWiy8",
   "metadata": {
    "colab": {
     "base_uri": "https://localhost:8080/",
     "height": 361
    },
    "executionInfo": {
     "elapsed": 49,
     "status": "ok",
     "timestamp": 1670919850464,
     "user": {
      "displayName": "Shubham Bhalerao",
      "userId": "01565516305767695314"
     },
     "user_tz": -330
    },
    "id": "xmlB9XMYWiy8",
    "outputId": "e46a635e-5147-4da9-aaee-6f8f337f9697"
   },
   "outputs": [
    {
     "data": {
      "image/png": "[encoded data removed]",
      "text/plain": [
       "<Figure size 1080x360 with 1 Axes>"
      ]
     },
     "metadata": {
      "needs_background": "light"
     },
     "output_type": "display_data"
    }
   ],
   "source": [
    "df_valid = pd.DataFrame(y_valid).reset_index()\n",
    "df_valid['prediction'] = pd.Series(y_preds)\n",
    "df_valid[\"price\"].plot(figsize = (15,5))\n",
    "df_valid['prediction'].plot(figsize = (15,5))\n",
    "plt.style.use('fivethirtyeight')\n",
    "plt.legend(['Actual Price', 'Predicted Price'])\n",
    "plt.title(\"House Price Actual vs Predicted\")\n",
    "plt.show()"
   ]
  },
  {
   "cell_type": "markdown",
   "id": "dd7dd059",
   "metadata": {
    "id": "dd7dd059"
   },
   "source": [
    "**So here we are getting 87.22 % of accuracy on our xgboost regression model.**"
   ]
  },
  {
   "cell_type": "markdown",
   "id": "DbYGFDL5xqPV",
   "metadata": {
    "id": "DbYGFDL5xqPV"
   },
   "source": [
    "### Model Deployment:"
   ]
  },
  {
   "cell_type": "code",
   "execution_count": 74,
   "id": "fW3AmIU1jjRF",
   "metadata": {
    "executionInfo": {
     "elapsed": 889,
     "status": "ok",
     "timestamp": 1670919855914,
     "user": {
      "displayName": "Shubham Bhalerao",
      "userId": "01565516305767695314"
     },
     "user_tz": -330
    },
    "id": "fW3AmIU1jjRF"
   },
   "outputs": [],
   "source": [
    "final_pipe = Pipeline([('Encoding', ct_encoding), ('scaling', ct_scaling), ('Model', final_model)])"
   ]
  },
  {
   "cell_type": "code",
   "execution_count": 75,
   "id": "y3Cn8DUpkyNk",
   "metadata": {
    "colab": {
     "base_uri": "https://localhost:8080/"
    },
    "executionInfo": {
     "elapsed": 2061,
     "status": "ok",
     "timestamp": 1670919859987,
     "user": {
      "displayName": "Shubham Bhalerao",
      "userId": "01565516305767695314"
     },
     "user_tz": -330
    },
    "id": "y3Cn8DUpkyNk",
    "outputId": "3c4b87ab-789a-46f9-a525-f10d399ed6ed"
   },
   "outputs": [],
   "source": [
    "final_pipe.fit(x_train, y_train)\n",
    "\n",
    "y_pred = final_pipe.predict(x_valid)"
   ]
  },
  {
   "cell_type": "code",
   "execution_count": 76,
   "id": "9112ca7c",
   "metadata": {
    "colab": {
     "base_uri": "https://localhost:8080/",
     "height": 81
    },
    "executionInfo": {
     "elapsed": 12,
     "status": "ok",
     "timestamp": 1670919862836,
     "user": {
      "displayName": "Shubham Bhalerao",
      "userId": "01565516305767695314"
     },
     "user_tz": -330
    },
    "id": "9112ca7c",
    "outputId": "ccaabcc5-16c0-42c3-b8da-6ba20a44a874"
   },
   "outputs": [
    {
     "data": {
      "text/html": [
       "<div>\n",
       "<style scoped>\n",
       "    .dataframe tbody tr th:only-of-type {\n",
       "        vertical-align: middle;\n",
       "    }\n",
       "\n",
       "    .dataframe tbody tr th {\n",
       "        vertical-align: top;\n",
       "    }\n",
       "\n",
       "    .dataframe thead th {\n",
       "        text-align: right;\n",
       "    }\n",
       "</style>\n",
       "<table border=\"1\" class=\"dataframe\">\n",
       "  <thead>\n",
       "    <tr style=\"text-align: right;\">\n",
       "      <th></th>\n",
       "      <th>area_type</th>\n",
       "      <th>location</th>\n",
       "      <th>total_sqft</th>\n",
       "      <th>bhk</th>\n",
       "    </tr>\n",
       "  </thead>\n",
       "  <tbody>\n",
       "    <tr>\n",
       "      <th>0</th>\n",
       "      <td>Plot Area</td>\n",
       "      <td>Jigani</td>\n",
       "      <td>2400.0</td>\n",
       "      <td>3</td>\n",
       "    </tr>\n",
       "  </tbody>\n",
       "</table>\n",
       "</div>"
      ],
      "text/plain": [
       "   area_type location total_sqft bhk\n",
       "0  Plot Area   Jigani     2400.0   3"
      ]
     },
     "execution_count": 76,
     "metadata": {},
     "output_type": "execute_result"
    }
   ],
   "source": [
    "a = pd.DataFrame(x_valid.iloc[1]).T\n",
    "a.reset_index(drop = True, inplace = True)\n",
    "a"
   ]
  },
  {
   "cell_type": "code",
   "execution_count": 77,
   "id": "f0a80f6e",
   "metadata": {
    "colab": {
     "base_uri": "https://localhost:8080/"
    },
    "executionInfo": {
     "elapsed": 10,
     "status": "ok",
     "timestamp": 1670919865037,
     "user": {
      "displayName": "Shubham Bhalerao",
      "userId": "01565516305767695314"
     },
     "user_tz": -330
    },
    "id": "f0a80f6e",
    "outputId": "e2b4e07d-3430-4c98-9a95-315613c0acc8"
   },
   "outputs": [
    {
     "data": {
      "text/plain": [
       "array([151.26093], dtype=float32)"
      ]
     },
     "execution_count": 77,
     "metadata": {},
     "output_type": "execute_result"
    }
   ],
   "source": [
    "final_pipe.predict(a)"
   ]
  },
  {
   "cell_type": "code",
   "execution_count": 78,
   "id": "0df49e0a",
   "metadata": {
    "executionInfo": {
     "elapsed": 936,
     "status": "ok",
     "timestamp": 1670919898986,
     "user": {
      "displayName": "Shubham Bhalerao",
      "userId": "01565516305767695314"
     },
     "user_tz": -330
    },
    "id": "0df49e0a"
   },
   "outputs": [],
   "source": [
    "# defining function for prediction\n",
    "\n",
    "def price_prediction(area_type, location, bhk, sqft):\n",
    "    \n",
    "    d = {\"area_type\" : [area_type], \"location\" : [location],  \"total_sqft\" : [sqft], \"bhk\" : [bhk]}\n",
    "    \n",
    "    data = pd.DataFrame(d)\n",
    "    \n",
    "    return final_pipe.predict(data)[0]"
   ]
  },
  {
   "cell_type": "code",
   "execution_count": 79,
   "id": "2f39a3a2",
   "metadata": {
    "colab": {
     "base_uri": "https://localhost:8080/"
    },
    "executionInfo": {
     "elapsed": 11,
     "status": "ok",
     "timestamp": 1670919900751,
     "user": {
      "displayName": "Shubham Bhalerao",
      "userId": "01565516305767695314"
     },
     "user_tz": -330
    },
    "id": "2f39a3a2",
    "outputId": "a6f1f4d3-713e-4d83-9942-c352d1b31374"
   },
   "outputs": [
    {
     "data": {
      "text/plain": [
       "42.690193"
      ]
     },
     "execution_count": 79,
     "metadata": {},
     "output_type": "execute_result"
    }
   ],
   "source": [
    "price_prediction('Plot Area','other', 1200.0, 3)"
   ]
  },
  {
   "cell_type": "code",
   "execution_count": 80,
   "id": "dd2c6fc1",
   "metadata": {
    "colab": {
     "base_uri": "https://localhost:8080/"
    },
    "executionInfo": {
     "elapsed": 444,
     "status": "ok",
     "timestamp": 1670919920218,
     "user": {
      "displayName": "Shubham Bhalerao",
      "userId": "01565516305767695314"
     },
     "user_tz": -330
    },
    "id": "dd2c6fc1",
    "outputId": "ab84e37e-e223-4901-e51f-84d510f3abe2"
   },
   "outputs": [
    {
     "data": {
      "text/plain": [
       "33.654064"
      ]
     },
     "execution_count": 80,
     "metadata": {},
     "output_type": "execute_result"
    }
   ],
   "source": [
    "price_prediction('Super built-up Area', 'Whitefield', 805.0, 2)"
   ]
  },
  {
   "cell_type": "markdown",
   "id": "de34caa6",
   "metadata": {
    "executionInfo": {
     "elapsed": 604,
     "status": "ok",
     "timestamp": 1670919924909,
     "user": {
      "displayName": "Shubham Bhalerao",
      "userId": "01565516305767695314"
     },
     "user_tz": -330
    },
    "id": "f69d6760"
   },
   "source": [
    "**Export the tested model to a pickle file**\n",
    "\n",
    "wb : write binary"
   ]
  },
  {
   "cell_type": "code",
   "execution_count": 81,
   "id": "c74598fe",
   "metadata": {},
   "outputs": [],
   "source": [
    "import pickle\n",
    "with open(\"Bengaluru_House_Price_model.pickle\", 'wb') as f:\n",
    "    pickle.dump(final_pipe, f)"
   ]
  },
  {
   "cell_type": "code",
   "execution_count": 82,
   "id": "16f894fa",
   "metadata": {},
   "outputs": [
    {
     "data": {
      "text/plain": [
       "Index(['area_type', 'location', 'total_sqft', 'bhk'], dtype='object')"
      ]
     },
     "execution_count": 82,
     "metadata": {},
     "output_type": "execute_result"
    }
   ],
   "source": [
    "x.columns"
   ]
  },
  {
   "cell_type": "markdown",
   "id": "74828fa0",
   "metadata": {},
   "source": [
    "Export location and column information to a file that will be useful later on in our prediction application.\n",
    "\n",
    "\n",
    "json : java script object notation\n",
    "\n",
    "text format"
   ]
  },
  {
   "cell_type": "code",
   "execution_count": 86,
   "id": "5afa4d33",
   "metadata": {},
   "outputs": [],
   "source": [
    "import json\n",
    "columns = { 'data_columns' : [col.lower() for col in x.columns] }\n",
    "with open(\"columns.json\", 'w') as f:\n",
    "    f.write(json.dumps(columns))"
   ]
  },
  {
   "cell_type": "code",
   "execution_count": 87,
   "id": "333eebbe",
   "metadata": {},
   "outputs": [],
   "source": [
    "import json\n",
    "locations = { 'locations' : [col for col in x[\"location\"].unique()] }\n",
    "with open(\"locations.json\", 'w') as f:\n",
    "    f.write(json.dumps(locations))"
   ]
  },
  {
   "cell_type": "code",
   "execution_count": 88,
   "id": "2c7002c7",
   "metadata": {},
   "outputs": [],
   "source": [
    "import json\n",
    "area_type = { 'area_type' : [col.lower() for col in x[\"area_type\"].unique()] }\n",
    "with open(\"area_type.json\", 'w') as f:\n",
    "    f.write(json.dumps(area_type))"
   ]
  },
  {
   "cell_type": "markdown",
   "id": "5096b6fa",
   "metadata": {},
   "source": [
    "Checking pickle file is predicting or not"
   ]
  },
  {
   "cell_type": "code",
   "execution_count": 87,
   "id": "62ea6895",
   "metadata": {},
   "outputs": [],
   "source": [
    "\n",
    "pickled_model = pickle.load(open(\"Bengaluru_House_Price_model.pickle\", 'rb'))"
   ]
  },
  {
   "cell_type": "code",
   "execution_count": 119,
   "id": "e23896c1",
   "metadata": {},
   "outputs": [],
   "source": [
    "columns = json.load(open(\"columns.json\",'rb'))[\"data_columns\"]"
   ]
  },
  {
   "cell_type": "code",
   "execution_count": 122,
   "id": "d790c419",
   "metadata": {},
   "outputs": [
    {
     "data": {
      "text/plain": [
       "33.654064"
      ]
     },
     "execution_count": 122,
     "metadata": {},
     "output_type": "execute_result"
    }
   ],
   "source": [
    "# predictions\n",
    "\n",
    "pickled_model.predict(pd.DataFrame([['Super built-up Area', 'Whitefield', 2, 805.0]], columns = columns))[0]"
   ]
  }
 ],
 "metadata": {
  "colab": {
   "provenance": []
  },
  "gpuClass": "standard",
  "kernelspec": {
   "display_name": "Python 3 (ipykernel)",
   "language": "python",
   "name": "python3"
  },
  "language_info": {
   "codemirror_mode": {
    "name": "ipython",
    "version": 3
   },
   "file_extension": ".py",
   "mimetype": "text/x-python",
   "name": "python",
   "nbconvert_exporter": "python",
   "pygments_lexer": "ipython3",
   "version": "3.9.13"
  }
 },
 "nbformat": 4,
 "nbformat_minor": 5
}
